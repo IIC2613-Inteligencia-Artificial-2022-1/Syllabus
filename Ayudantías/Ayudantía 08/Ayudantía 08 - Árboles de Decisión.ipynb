{
  "nbformat": 4,
  "nbformat_minor": 0,
  "metadata": {
    "colab": {
      "name": "Ayudantía 8 IA 2022-1",
      "provenance": [],
      "collapsed_sections": []
    },
    "kernelspec": {
      "name": "python3",
      "display_name": "Python 3"
    },
    "language_info": {
      "name": "python"
    }
  },
  "cells": [
    {
      "cell_type": "markdown",
      "source": [
        "Pontificia Universidad Católica de Chile <br>\n",
        "Departamento de Ciencia de la Computación <br>\n",
        "IIC2613 - Inteligencia Artificial\n",
        "<br>\n",
        "\n",
        "<center>\n",
        "    <h2> Ayudantía 8 </h2>\n",
        "    <h1> Árboles de decisión y Random Forest </h1>\n",
        "    <p>\n",
        "        Felipe Guzmán: faguzman2@uc.cl  <br> \n",
        "        Ignacio Villanueva: ignacio.villanueva@uc.cl<br>\n",
        "        2022 - 1    \n",
        "    </p>\n",
        "    <br>\n",
        "    <img src=\"https://www.researchgate.net/profile/Jessica-Pickles-2/publication/339279807/figure/fig1/AS:891889284829201@1589654384981/Random-forests-are-collections-of-randomised-decision-trees-A-A-single-decision-tree.ppm\" width=\"600\"/>\n",
        "</center>\n",
        "\n",
        "<br>\n",
        "\n",
        "---"
      ],
      "metadata": {
        "id": "abcTI3Wzcnyt"
      }
    },
    {
      "cell_type": "markdown",
      "source": [
        "# SpaceShip Titanic"
      ],
      "metadata": {
        "id": "9EVVxGEHPV-H"
      }
    },
    {
      "cell_type": "markdown",
      "source": [
        "Vives en el año 2122, y quieres comprar un pasaje en el nuevo Spaceship Titanic II. Sin embargo, te enteras que hace 20 años existió un primer Spaceship Titanic, que es exactamente igual al segundo, y en este se produjo un incidente que hizo que parte de los pasajeros fueran transportados a otra dimensión.\n",
        "\n",
        "Contra tu mejor juicio, decides comprar de todas formas el pasaje, pero tomando la precaución de elegir un viaje tal que no seas transportado a otra dimensión. Para esto, decides utilizar el método de clasificación Random Forest, para lograr decidir, a partir de la información que tienes del primer Spaceship Titanic, cuales de los viajes disponibles no llevaran a un viaje interdimensional."
      ],
      "metadata": {
        "id": "EB_UgVu4TTyH"
      }
    },
    {
      "cell_type": "markdown",
      "source": [
        "El [siguiente dataset](https://www.kaggle.com/competitions/spaceship-titanic/data) fue extraído de [`Kaggle`](https://www.kaggle.com/). Esta página tiene muchos datasets de diversos temas, y también trabajos de personas sobre algunos de estos sets, por lo que si tienen ganas de hacer algún proyecto de este estilo, les recomendamos revisar esta página.\n",
        "\n",
        "A continuación importaremos los datasets:"
      ],
      "metadata": {
        "id": "QLkfE3VkbauM"
      }
    },
    {
      "cell_type": "code",
      "source": [
        "import pandas as pd\n",
        "import numpy as np"
      ],
      "metadata": {
        "id": "Sq_nHgkcfO2G"
      },
      "execution_count": null,
      "outputs": []
    },
    {
      "cell_type": "code",
      "source": [
        "dataset = pd.read_csv(\"train.csv\", index_col = False)"
      ],
      "metadata": {
        "id": "-Oo7ksDIbr4_"
      },
      "execution_count": null,
      "outputs": []
    },
    {
      "cell_type": "markdown",
      "source": [
        "Luego de tener nuestros datasets, lo primero que hacemos es ver sus características, y la de sus columnas para saber con que estamos trabajando. Lo primero que haremos es ver sus primeras filas y revisarlas."
      ],
      "metadata": {
        "id": "jIuvCUk4cbGe"
      }
    },
    {
      "cell_type": "code",
      "source": [
        "dataset.head()"
      ],
      "metadata": {
        "colab": {
          "base_uri": "https://localhost:8080/",
          "height": 357
        },
        "id": "9gZjHUdeczyZ",
        "outputId": "6ae0df36-426e-4171-c1bb-623cb01898ff"
      },
      "execution_count": null,
      "outputs": [
        {
          "output_type": "execute_result",
          "data": {
            "text/plain": [
              "  PassengerId HomePlanet CryoSleep  Cabin  Destination   Age    VIP  \\\n",
              "0     0001_01     Europa     False  B/0/P  TRAPPIST-1e  39.0  False   \n",
              "1     0002_01      Earth     False  F/0/S  TRAPPIST-1e  24.0  False   \n",
              "2     0003_01     Europa     False  A/0/S  TRAPPIST-1e  58.0   True   \n",
              "3     0003_02     Europa     False  A/0/S  TRAPPIST-1e  33.0  False   \n",
              "4     0004_01      Earth     False  F/1/S  TRAPPIST-1e  16.0  False   \n",
              "\n",
              "   RoomService  FoodCourt  ShoppingMall     Spa  VRDeck               Name  \\\n",
              "0          0.0        0.0           0.0     0.0     0.0    Maham Ofracculy   \n",
              "1        109.0        9.0          25.0   549.0    44.0       Juanna Vines   \n",
              "2         43.0     3576.0           0.0  6715.0    49.0      Altark Susent   \n",
              "3          0.0     1283.0         371.0  3329.0   193.0       Solam Susent   \n",
              "4        303.0       70.0         151.0   565.0     2.0  Willy Santantines   \n",
              "\n",
              "   Transported  \n",
              "0        False  \n",
              "1         True  \n",
              "2        False  \n",
              "3        False  \n",
              "4         True  "
            ],
            "text/html": [
              "\n",
              "  <div id=\"df-b89b1963-7861-4dea-8244-cadf2b77d7eb\">\n",
              "    <div class=\"colab-df-container\">\n",
              "      <div>\n",
              "<style scoped>\n",
              "    .dataframe tbody tr th:only-of-type {\n",
              "        vertical-align: middle;\n",
              "    }\n",
              "\n",
              "    .dataframe tbody tr th {\n",
              "        vertical-align: top;\n",
              "    }\n",
              "\n",
              "    .dataframe thead th {\n",
              "        text-align: right;\n",
              "    }\n",
              "</style>\n",
              "<table border=\"1\" class=\"dataframe\">\n",
              "  <thead>\n",
              "    <tr style=\"text-align: right;\">\n",
              "      <th></th>\n",
              "      <th>PassengerId</th>\n",
              "      <th>HomePlanet</th>\n",
              "      <th>CryoSleep</th>\n",
              "      <th>Cabin</th>\n",
              "      <th>Destination</th>\n",
              "      <th>Age</th>\n",
              "      <th>VIP</th>\n",
              "      <th>RoomService</th>\n",
              "      <th>FoodCourt</th>\n",
              "      <th>ShoppingMall</th>\n",
              "      <th>Spa</th>\n",
              "      <th>VRDeck</th>\n",
              "      <th>Name</th>\n",
              "      <th>Transported</th>\n",
              "    </tr>\n",
              "  </thead>\n",
              "  <tbody>\n",
              "    <tr>\n",
              "      <th>0</th>\n",
              "      <td>0001_01</td>\n",
              "      <td>Europa</td>\n",
              "      <td>False</td>\n",
              "      <td>B/0/P</td>\n",
              "      <td>TRAPPIST-1e</td>\n",
              "      <td>39.0</td>\n",
              "      <td>False</td>\n",
              "      <td>0.0</td>\n",
              "      <td>0.0</td>\n",
              "      <td>0.0</td>\n",
              "      <td>0.0</td>\n",
              "      <td>0.0</td>\n",
              "      <td>Maham Ofracculy</td>\n",
              "      <td>False</td>\n",
              "    </tr>\n",
              "    <tr>\n",
              "      <th>1</th>\n",
              "      <td>0002_01</td>\n",
              "      <td>Earth</td>\n",
              "      <td>False</td>\n",
              "      <td>F/0/S</td>\n",
              "      <td>TRAPPIST-1e</td>\n",
              "      <td>24.0</td>\n",
              "      <td>False</td>\n",
              "      <td>109.0</td>\n",
              "      <td>9.0</td>\n",
              "      <td>25.0</td>\n",
              "      <td>549.0</td>\n",
              "      <td>44.0</td>\n",
              "      <td>Juanna Vines</td>\n",
              "      <td>True</td>\n",
              "    </tr>\n",
              "    <tr>\n",
              "      <th>2</th>\n",
              "      <td>0003_01</td>\n",
              "      <td>Europa</td>\n",
              "      <td>False</td>\n",
              "      <td>A/0/S</td>\n",
              "      <td>TRAPPIST-1e</td>\n",
              "      <td>58.0</td>\n",
              "      <td>True</td>\n",
              "      <td>43.0</td>\n",
              "      <td>3576.0</td>\n",
              "      <td>0.0</td>\n",
              "      <td>6715.0</td>\n",
              "      <td>49.0</td>\n",
              "      <td>Altark Susent</td>\n",
              "      <td>False</td>\n",
              "    </tr>\n",
              "    <tr>\n",
              "      <th>3</th>\n",
              "      <td>0003_02</td>\n",
              "      <td>Europa</td>\n",
              "      <td>False</td>\n",
              "      <td>A/0/S</td>\n",
              "      <td>TRAPPIST-1e</td>\n",
              "      <td>33.0</td>\n",
              "      <td>False</td>\n",
              "      <td>0.0</td>\n",
              "      <td>1283.0</td>\n",
              "      <td>371.0</td>\n",
              "      <td>3329.0</td>\n",
              "      <td>193.0</td>\n",
              "      <td>Solam Susent</td>\n",
              "      <td>False</td>\n",
              "    </tr>\n",
              "    <tr>\n",
              "      <th>4</th>\n",
              "      <td>0004_01</td>\n",
              "      <td>Earth</td>\n",
              "      <td>False</td>\n",
              "      <td>F/1/S</td>\n",
              "      <td>TRAPPIST-1e</td>\n",
              "      <td>16.0</td>\n",
              "      <td>False</td>\n",
              "      <td>303.0</td>\n",
              "      <td>70.0</td>\n",
              "      <td>151.0</td>\n",
              "      <td>565.0</td>\n",
              "      <td>2.0</td>\n",
              "      <td>Willy Santantines</td>\n",
              "      <td>True</td>\n",
              "    </tr>\n",
              "  </tbody>\n",
              "</table>\n",
              "</div>\n",
              "      <button class=\"colab-df-convert\" onclick=\"convertToInteractive('df-b89b1963-7861-4dea-8244-cadf2b77d7eb')\"\n",
              "              title=\"Convert this dataframe to an interactive table.\"\n",
              "              style=\"display:none;\">\n",
              "        \n",
              "  <svg xmlns=\"http://www.w3.org/2000/svg\" height=\"24px\"viewBox=\"0 0 24 24\"\n",
              "       width=\"24px\">\n",
              "    <path d=\"M0 0h24v24H0V0z\" fill=\"none\"/>\n",
              "    <path d=\"M18.56 5.44l.94 2.06.94-2.06 2.06-.94-2.06-.94-.94-2.06-.94 2.06-2.06.94zm-11 1L8.5 8.5l.94-2.06 2.06-.94-2.06-.94L8.5 2.5l-.94 2.06-2.06.94zm10 10l.94 2.06.94-2.06 2.06-.94-2.06-.94-.94-2.06-.94 2.06-2.06.94z\"/><path d=\"M17.41 7.96l-1.37-1.37c-.4-.4-.92-.59-1.43-.59-.52 0-1.04.2-1.43.59L10.3 9.45l-7.72 7.72c-.78.78-.78 2.05 0 2.83L4 21.41c.39.39.9.59 1.41.59.51 0 1.02-.2 1.41-.59l7.78-7.78 2.81-2.81c.8-.78.8-2.07 0-2.86zM5.41 20L4 18.59l7.72-7.72 1.47 1.35L5.41 20z\"/>\n",
              "  </svg>\n",
              "      </button>\n",
              "      \n",
              "  <style>\n",
              "    .colab-df-container {\n",
              "      display:flex;\n",
              "      flex-wrap:wrap;\n",
              "      gap: 12px;\n",
              "    }\n",
              "\n",
              "    .colab-df-convert {\n",
              "      background-color: #E8F0FE;\n",
              "      border: none;\n",
              "      border-radius: 50%;\n",
              "      cursor: pointer;\n",
              "      display: none;\n",
              "      fill: #1967D2;\n",
              "      height: 32px;\n",
              "      padding: 0 0 0 0;\n",
              "      width: 32px;\n",
              "    }\n",
              "\n",
              "    .colab-df-convert:hover {\n",
              "      background-color: #E2EBFA;\n",
              "      box-shadow: 0px 1px 2px rgba(60, 64, 67, 0.3), 0px 1px 3px 1px rgba(60, 64, 67, 0.15);\n",
              "      fill: #174EA6;\n",
              "    }\n",
              "\n",
              "    [theme=dark] .colab-df-convert {\n",
              "      background-color: #3B4455;\n",
              "      fill: #D2E3FC;\n",
              "    }\n",
              "\n",
              "    [theme=dark] .colab-df-convert:hover {\n",
              "      background-color: #434B5C;\n",
              "      box-shadow: 0px 1px 3px 1px rgba(0, 0, 0, 0.15);\n",
              "      filter: drop-shadow(0px 1px 2px rgba(0, 0, 0, 0.3));\n",
              "      fill: #FFFFFF;\n",
              "    }\n",
              "  </style>\n",
              "\n",
              "      <script>\n",
              "        const buttonEl =\n",
              "          document.querySelector('#df-b89b1963-7861-4dea-8244-cadf2b77d7eb button.colab-df-convert');\n",
              "        buttonEl.style.display =\n",
              "          google.colab.kernel.accessAllowed ? 'block' : 'none';\n",
              "\n",
              "        async function convertToInteractive(key) {\n",
              "          const element = document.querySelector('#df-b89b1963-7861-4dea-8244-cadf2b77d7eb');\n",
              "          const dataTable =\n",
              "            await google.colab.kernel.invokeFunction('convertToInteractive',\n",
              "                                                     [key], {});\n",
              "          if (!dataTable) return;\n",
              "\n",
              "          const docLinkHtml = 'Like what you see? Visit the ' +\n",
              "            '<a target=\"_blank\" href=https://colab.research.google.com/notebooks/data_table.ipynb>data table notebook</a>'\n",
              "            + ' to learn more about interactive tables.';\n",
              "          element.innerHTML = '';\n",
              "          dataTable['output_type'] = 'display_data';\n",
              "          await google.colab.output.renderOutput(dataTable, element);\n",
              "          const docLink = document.createElement('div');\n",
              "          docLink.innerHTML = docLinkHtml;\n",
              "          element.appendChild(docLink);\n",
              "        }\n",
              "      </script>\n",
              "    </div>\n",
              "  </div>\n",
              "  "
            ]
          },
          "metadata": {},
          "execution_count": 5
        }
      ]
    },
    {
      "cell_type": "markdown",
      "source": [
        "También nos interesa revisar el tamaño de nuestro dataset, por lo que lo revisamos a continuación"
      ],
      "metadata": {
        "id": "NQrY0DeQjj2m"
      }
    },
    {
      "cell_type": "code",
      "source": [
        "print(f\"Tamaño de nuestro dataset: {dataset.shape}\")"
      ],
      "metadata": {
        "id": "YpJODQ6AWZHO",
        "colab": {
          "base_uri": "https://localhost:8080/"
        },
        "outputId": "3fcc174d-92d5-40e3-a5c1-7f5500096132"
      },
      "execution_count": null,
      "outputs": [
        {
          "output_type": "stream",
          "name": "stdout",
          "text": [
            "Tamaño de nuestro dataset: (8693, 14)\n"
          ]
        }
      ]
    },
    {
      "cell_type": "markdown",
      "source": [
        "Como queremos usar un árbol de decisión, hay ciertas columnas que no nos sirven, como sería el caso de `PassengerId`, `Name` y `Cabin`, debido a que realmente no generan una separación en los datos. Sabiendo esto, podemos eliminar estas columnas. "
      ],
      "metadata": {
        "id": "LN5om0ifkGPJ"
      }
    },
    {
      "cell_type": "code",
      "source": [
        "dataset = dataset.drop(labels=[\"PassengerId\", \"Name\", \"Cabin\"], axis=1)"
      ],
      "metadata": {
        "id": "TPybUCVckE-L"
      },
      "execution_count": null,
      "outputs": []
    },
    {
      "cell_type": "markdown",
      "source": [
        "A su vez, revisamos la cantidad de catégorias por columna. "
      ],
      "metadata": {
        "id": "cIno5f51pFeK"
      }
    },
    {
      "cell_type": "code",
      "source": [
        "dataset.nunique()"
      ],
      "metadata": {
        "colab": {
          "base_uri": "https://localhost:8080/"
        },
        "id": "MJG6jXadhPrf",
        "outputId": "2bd2f8ef-39a8-4ae1-a64b-456e845c7285"
      },
      "execution_count": null,
      "outputs": [
        {
          "output_type": "execute_result",
          "data": {
            "text/plain": [
              "HomePlanet         3\n",
              "CryoSleep          2\n",
              "Destination        3\n",
              "Age               80\n",
              "VIP                2\n",
              "RoomService     1273\n",
              "FoodCourt       1507\n",
              "ShoppingMall    1115\n",
              "Spa             1327\n",
              "VRDeck          1306\n",
              "Transported        2\n",
              "dtype: int64"
            ]
          },
          "metadata": {},
          "execution_count": 8
        }
      ]
    },
    {
      "cell_type": "markdown",
      "source": [
        "Podemos observar que las columnas `Age, RoomService, FoodCourt,\tShoppingMall,\tSpa, VRDeck` son de tipo continuas. Recordemos que el árbol de decisión necesita variables categóricas para su funcionamiento, por lo que debemos transformar las columnas a este tipo de datos.\n",
        "\n",
        "Es por esto que transformaremos `Age` en categórica. El resto las eliminaremos por simplicidad del ejercicio.\n",
        "\n",
        "Separaremos `Age` en tres categorías:\n",
        "\n",
        "1.   `Young`: `0 <= Age < 30` \n",
        "2.   `Adult`: `30 <= Age < 60`\n",
        "3.   `Elderly`: `60 < Age <= 99`\n"
      ],
      "metadata": {
        "id": "zGA9aOtOlbLz"
      }
    },
    {
      "cell_type": "code",
      "source": [
        "dataset['Age'] = pd.cut(dataset.Age,bins=[-1, 30, 60, 99],labels=[\"Young\", \"Adult\", \"Elderly\"])\n",
        "dataset = dataset.drop(labels=[\"RoomService\",\t\"FoodCourt\",\t\"ShoppingMall\",\t\"Spa\"\t, \"VRDeck\"], axis=1)"
      ],
      "metadata": {
        "id": "j5ymhcJvLQZ2"
      },
      "execution_count": null,
      "outputs": []
    },
    {
      "cell_type": "markdown",
      "source": [
        "Ahora revisemos el dataset para ver como quedó luego de esta transformación. "
      ],
      "metadata": {
        "id": "La6RaM4bMpmR"
      }
    },
    {
      "cell_type": "code",
      "source": [
        "dataset.head()"
      ],
      "metadata": {
        "colab": {
          "base_uri": "https://localhost:8080/",
          "height": 206
        },
        "id": "DYHGXu23oHTv",
        "outputId": "5ec61ef9-8d20-4acf-826a-9b1e3f4620ba"
      },
      "execution_count": null,
      "outputs": [
        {
          "output_type": "execute_result",
          "data": {
            "text/plain": [
              "  HomePlanet CryoSleep  Destination    Age    VIP  Transported\n",
              "0     Europa     False  TRAPPIST-1e  Adult  False        False\n",
              "1      Earth     False  TRAPPIST-1e  Young  False         True\n",
              "2     Europa     False  TRAPPIST-1e  Adult   True        False\n",
              "3     Europa     False  TRAPPIST-1e  Adult  False        False\n",
              "4      Earth     False  TRAPPIST-1e  Young  False         True"
            ],
            "text/html": [
              "\n",
              "  <div id=\"df-69273e34-1750-46fa-a5ba-9d7b24ea5668\">\n",
              "    <div class=\"colab-df-container\">\n",
              "      <div>\n",
              "<style scoped>\n",
              "    .dataframe tbody tr th:only-of-type {\n",
              "        vertical-align: middle;\n",
              "    }\n",
              "\n",
              "    .dataframe tbody tr th {\n",
              "        vertical-align: top;\n",
              "    }\n",
              "\n",
              "    .dataframe thead th {\n",
              "        text-align: right;\n",
              "    }\n",
              "</style>\n",
              "<table border=\"1\" class=\"dataframe\">\n",
              "  <thead>\n",
              "    <tr style=\"text-align: right;\">\n",
              "      <th></th>\n",
              "      <th>HomePlanet</th>\n",
              "      <th>CryoSleep</th>\n",
              "      <th>Destination</th>\n",
              "      <th>Age</th>\n",
              "      <th>VIP</th>\n",
              "      <th>Transported</th>\n",
              "    </tr>\n",
              "  </thead>\n",
              "  <tbody>\n",
              "    <tr>\n",
              "      <th>0</th>\n",
              "      <td>Europa</td>\n",
              "      <td>False</td>\n",
              "      <td>TRAPPIST-1e</td>\n",
              "      <td>Adult</td>\n",
              "      <td>False</td>\n",
              "      <td>False</td>\n",
              "    </tr>\n",
              "    <tr>\n",
              "      <th>1</th>\n",
              "      <td>Earth</td>\n",
              "      <td>False</td>\n",
              "      <td>TRAPPIST-1e</td>\n",
              "      <td>Young</td>\n",
              "      <td>False</td>\n",
              "      <td>True</td>\n",
              "    </tr>\n",
              "    <tr>\n",
              "      <th>2</th>\n",
              "      <td>Europa</td>\n",
              "      <td>False</td>\n",
              "      <td>TRAPPIST-1e</td>\n",
              "      <td>Adult</td>\n",
              "      <td>True</td>\n",
              "      <td>False</td>\n",
              "    </tr>\n",
              "    <tr>\n",
              "      <th>3</th>\n",
              "      <td>Europa</td>\n",
              "      <td>False</td>\n",
              "      <td>TRAPPIST-1e</td>\n",
              "      <td>Adult</td>\n",
              "      <td>False</td>\n",
              "      <td>False</td>\n",
              "    </tr>\n",
              "    <tr>\n",
              "      <th>4</th>\n",
              "      <td>Earth</td>\n",
              "      <td>False</td>\n",
              "      <td>TRAPPIST-1e</td>\n",
              "      <td>Young</td>\n",
              "      <td>False</td>\n",
              "      <td>True</td>\n",
              "    </tr>\n",
              "  </tbody>\n",
              "</table>\n",
              "</div>\n",
              "      <button class=\"colab-df-convert\" onclick=\"convertToInteractive('df-69273e34-1750-46fa-a5ba-9d7b24ea5668')\"\n",
              "              title=\"Convert this dataframe to an interactive table.\"\n",
              "              style=\"display:none;\">\n",
              "        \n",
              "  <svg xmlns=\"http://www.w3.org/2000/svg\" height=\"24px\"viewBox=\"0 0 24 24\"\n",
              "       width=\"24px\">\n",
              "    <path d=\"M0 0h24v24H0V0z\" fill=\"none\"/>\n",
              "    <path d=\"M18.56 5.44l.94 2.06.94-2.06 2.06-.94-2.06-.94-.94-2.06-.94 2.06-2.06.94zm-11 1L8.5 8.5l.94-2.06 2.06-.94-2.06-.94L8.5 2.5l-.94 2.06-2.06.94zm10 10l.94 2.06.94-2.06 2.06-.94-2.06-.94-.94-2.06-.94 2.06-2.06.94z\"/><path d=\"M17.41 7.96l-1.37-1.37c-.4-.4-.92-.59-1.43-.59-.52 0-1.04.2-1.43.59L10.3 9.45l-7.72 7.72c-.78.78-.78 2.05 0 2.83L4 21.41c.39.39.9.59 1.41.59.51 0 1.02-.2 1.41-.59l7.78-7.78 2.81-2.81c.8-.78.8-2.07 0-2.86zM5.41 20L4 18.59l7.72-7.72 1.47 1.35L5.41 20z\"/>\n",
              "  </svg>\n",
              "      </button>\n",
              "      \n",
              "  <style>\n",
              "    .colab-df-container {\n",
              "      display:flex;\n",
              "      flex-wrap:wrap;\n",
              "      gap: 12px;\n",
              "    }\n",
              "\n",
              "    .colab-df-convert {\n",
              "      background-color: #E8F0FE;\n",
              "      border: none;\n",
              "      border-radius: 50%;\n",
              "      cursor: pointer;\n",
              "      display: none;\n",
              "      fill: #1967D2;\n",
              "      height: 32px;\n",
              "      padding: 0 0 0 0;\n",
              "      width: 32px;\n",
              "    }\n",
              "\n",
              "    .colab-df-convert:hover {\n",
              "      background-color: #E2EBFA;\n",
              "      box-shadow: 0px 1px 2px rgba(60, 64, 67, 0.3), 0px 1px 3px 1px rgba(60, 64, 67, 0.15);\n",
              "      fill: #174EA6;\n",
              "    }\n",
              "\n",
              "    [theme=dark] .colab-df-convert {\n",
              "      background-color: #3B4455;\n",
              "      fill: #D2E3FC;\n",
              "    }\n",
              "\n",
              "    [theme=dark] .colab-df-convert:hover {\n",
              "      background-color: #434B5C;\n",
              "      box-shadow: 0px 1px 3px 1px rgba(0, 0, 0, 0.15);\n",
              "      filter: drop-shadow(0px 1px 2px rgba(0, 0, 0, 0.3));\n",
              "      fill: #FFFFFF;\n",
              "    }\n",
              "  </style>\n",
              "\n",
              "      <script>\n",
              "        const buttonEl =\n",
              "          document.querySelector('#df-69273e34-1750-46fa-a5ba-9d7b24ea5668 button.colab-df-convert');\n",
              "        buttonEl.style.display =\n",
              "          google.colab.kernel.accessAllowed ? 'block' : 'none';\n",
              "\n",
              "        async function convertToInteractive(key) {\n",
              "          const element = document.querySelector('#df-69273e34-1750-46fa-a5ba-9d7b24ea5668');\n",
              "          const dataTable =\n",
              "            await google.colab.kernel.invokeFunction('convertToInteractive',\n",
              "                                                     [key], {});\n",
              "          if (!dataTable) return;\n",
              "\n",
              "          const docLinkHtml = 'Like what you see? Visit the ' +\n",
              "            '<a target=\"_blank\" href=https://colab.research.google.com/notebooks/data_table.ipynb>data table notebook</a>'\n",
              "            + ' to learn more about interactive tables.';\n",
              "          element.innerHTML = '';\n",
              "          dataTable['output_type'] = 'display_data';\n",
              "          await google.colab.output.renderOutput(dataTable, element);\n",
              "          const docLink = document.createElement('div');\n",
              "          docLink.innerHTML = docLinkHtml;\n",
              "          element.appendChild(docLink);\n",
              "        }\n",
              "      </script>\n",
              "    </div>\n",
              "  </div>\n",
              "  "
            ]
          },
          "metadata": {},
          "execution_count": 10
        }
      ]
    },
    {
      "cell_type": "markdown",
      "source": [
        "Luego de eliminar las columnas correspondientes y transformar los datos a su tipo correspondiente, nos interesa saber si tenemos datos nulos"
      ],
      "metadata": {
        "id": "E7JvfEjXlAux"
      }
    },
    {
      "cell_type": "code",
      "source": [
        "dataset.isnull().sum()"
      ],
      "metadata": {
        "colab": {
          "base_uri": "https://localhost:8080/"
        },
        "id": "U2z9S_uahSNb",
        "outputId": "9bbb7d5d-c0de-4f3e-fa08-ecd27e4696ad"
      },
      "execution_count": null,
      "outputs": [
        {
          "output_type": "execute_result",
          "data": {
            "text/plain": [
              "HomePlanet     201\n",
              "CryoSleep      217\n",
              "Destination    182\n",
              "Age            179\n",
              "VIP            203\n",
              "Transported      0\n",
              "dtype: int64"
            ]
          },
          "metadata": {},
          "execution_count": 11
        }
      ]
    },
    {
      "cell_type": "markdown",
      "source": [
        "Como podemos ver, tenemos datos nulos en casi todas las columnas. Cuando tenemos esta situación tenemos 2 opciones:\n",
        "\n",
        "\n",
        "1.   Si consideran que esas filas no aportan gran información al problema, podemos eliminarlas.\n",
        "2.   Si no quieren perder esos datos, se pueden reemplazar los datos vacíos con algún valor que tenga sentido según los datos. Esto puede ser reemplazar según la moda, el promedio en el caso de los valores continuos, etc.\n",
        "\n",
        "En ambos casos lo importante es justificar debidamente las decisiones que se tomen.\n",
        "\n",
        "En este caso, reemplazaremos la columna `VIP` con la moda debido a que es una columna con dos categórias, por lo que puede ser una buena fuente de separación en los datos, por lo que no queremos perder esos datos. Para esto primero revisaremos cual es la moda de esta columna.\n",
        "Por otro lado, eliminaremos las otras filas con valores nulos por simplicidad.\n",
        "\n"
      ],
      "metadata": {
        "id": "qrvmB4Z8koSG"
      }
    },
    {
      "cell_type": "code",
      "source": [
        "dataset[\"VIP\"].describe()"
      ],
      "metadata": {
        "colab": {
          "base_uri": "https://localhost:8080/"
        },
        "id": "1pt6nr8mnGnG",
        "outputId": "d7d01c37-2007-44c7-dcc7-4b9f87d5c153"
      },
      "execution_count": null,
      "outputs": [
        {
          "output_type": "execute_result",
          "data": {
            "text/plain": [
              "count      8490\n",
              "unique        2\n",
              "top       False\n",
              "freq       8291\n",
              "Name: VIP, dtype: object"
            ]
          },
          "metadata": {},
          "execution_count": 12
        }
      ]
    },
    {
      "cell_type": "markdown",
      "source": [
        "Como podemos ver, el valor `False` es el que más se repite, por lo que reemplazaremos las filas vacías con esta categoría."
      ],
      "metadata": {
        "id": "1GTAMPN1naq7"
      }
    },
    {
      "cell_type": "code",
      "source": [
        "dataset[\"VIP\"] = dataset[\"VIP\"].fillna(False)"
      ],
      "metadata": {
        "id": "o3gg1_41naMJ"
      },
      "execution_count": null,
      "outputs": []
    },
    {
      "cell_type": "markdown",
      "source": [
        "Para revisar que este correcto, volvemos a revisar los nulos en el dataset."
      ],
      "metadata": {
        "id": "x5dBHS4qnxRh"
      }
    },
    {
      "cell_type": "code",
      "source": [
        "dataset.isnull().sum()"
      ],
      "metadata": {
        "colab": {
          "base_uri": "https://localhost:8080/"
        },
        "id": "1-zGIIJgnuFv",
        "outputId": "d737416e-c271-4c9c-e34f-a01440ae757a"
      },
      "execution_count": null,
      "outputs": [
        {
          "output_type": "execute_result",
          "data": {
            "text/plain": [
              "HomePlanet     201\n",
              "CryoSleep      217\n",
              "Destination    182\n",
              "Age            179\n",
              "VIP              0\n",
              "Transported      0\n",
              "dtype: int64"
            ]
          },
          "metadata": {},
          "execution_count": 14
        }
      ]
    },
    {
      "cell_type": "markdown",
      "source": [
        "Podemos observar que efectivamente fueron reemplazados estos valores. A continuación eliminaremos el resto de las filas con datos vacíos"
      ],
      "metadata": {
        "id": "UZ4pqZa6n52d"
      }
    },
    {
      "cell_type": "code",
      "source": [
        "dataset = dataset.dropna()"
      ],
      "metadata": {
        "id": "aU2LvoOsy5M8"
      },
      "execution_count": null,
      "outputs": []
    },
    {
      "cell_type": "markdown",
      "source": [
        "Revisamos nuevamente el dataset."
      ],
      "metadata": {
        "id": "U0gAIeFkqgtm"
      }
    },
    {
      "cell_type": "code",
      "source": [
        "dataset.isnull().sum()"
      ],
      "metadata": {
        "colab": {
          "base_uri": "https://localhost:8080/"
        },
        "id": "4rhR1et4zGnU",
        "outputId": "02517733-02f3-4b52-aab8-79759821762e"
      },
      "execution_count": null,
      "outputs": [
        {
          "output_type": "execute_result",
          "data": {
            "text/plain": [
              "HomePlanet     0\n",
              "CryoSleep      0\n",
              "Destination    0\n",
              "Age            0\n",
              "VIP            0\n",
              "Transported    0\n",
              "dtype: int64"
            ]
          },
          "metadata": {},
          "execution_count": 16
        }
      ]
    },
    {
      "cell_type": "code",
      "source": [
        "dataset.head()"
      ],
      "metadata": {
        "colab": {
          "base_uri": "https://localhost:8080/",
          "height": 206
        },
        "id": "fob2TGgOqh3e",
        "outputId": "24145a35-0880-4129-8925-c7afb2f4f123"
      },
      "execution_count": null,
      "outputs": [
        {
          "output_type": "execute_result",
          "data": {
            "text/plain": [
              "  HomePlanet CryoSleep  Destination    Age    VIP  Transported\n",
              "0     Europa     False  TRAPPIST-1e  Adult  False        False\n",
              "1      Earth     False  TRAPPIST-1e  Young  False         True\n",
              "2     Europa     False  TRAPPIST-1e  Adult   True        False\n",
              "3     Europa     False  TRAPPIST-1e  Adult  False        False\n",
              "4      Earth     False  TRAPPIST-1e  Young  False         True"
            ],
            "text/html": [
              "\n",
              "  <div id=\"df-9fe58c89-3d68-4b82-9754-4c84d3c6b3bb\">\n",
              "    <div class=\"colab-df-container\">\n",
              "      <div>\n",
              "<style scoped>\n",
              "    .dataframe tbody tr th:only-of-type {\n",
              "        vertical-align: middle;\n",
              "    }\n",
              "\n",
              "    .dataframe tbody tr th {\n",
              "        vertical-align: top;\n",
              "    }\n",
              "\n",
              "    .dataframe thead th {\n",
              "        text-align: right;\n",
              "    }\n",
              "</style>\n",
              "<table border=\"1\" class=\"dataframe\">\n",
              "  <thead>\n",
              "    <tr style=\"text-align: right;\">\n",
              "      <th></th>\n",
              "      <th>HomePlanet</th>\n",
              "      <th>CryoSleep</th>\n",
              "      <th>Destination</th>\n",
              "      <th>Age</th>\n",
              "      <th>VIP</th>\n",
              "      <th>Transported</th>\n",
              "    </tr>\n",
              "  </thead>\n",
              "  <tbody>\n",
              "    <tr>\n",
              "      <th>0</th>\n",
              "      <td>Europa</td>\n",
              "      <td>False</td>\n",
              "      <td>TRAPPIST-1e</td>\n",
              "      <td>Adult</td>\n",
              "      <td>False</td>\n",
              "      <td>False</td>\n",
              "    </tr>\n",
              "    <tr>\n",
              "      <th>1</th>\n",
              "      <td>Earth</td>\n",
              "      <td>False</td>\n",
              "      <td>TRAPPIST-1e</td>\n",
              "      <td>Young</td>\n",
              "      <td>False</td>\n",
              "      <td>True</td>\n",
              "    </tr>\n",
              "    <tr>\n",
              "      <th>2</th>\n",
              "      <td>Europa</td>\n",
              "      <td>False</td>\n",
              "      <td>TRAPPIST-1e</td>\n",
              "      <td>Adult</td>\n",
              "      <td>True</td>\n",
              "      <td>False</td>\n",
              "    </tr>\n",
              "    <tr>\n",
              "      <th>3</th>\n",
              "      <td>Europa</td>\n",
              "      <td>False</td>\n",
              "      <td>TRAPPIST-1e</td>\n",
              "      <td>Adult</td>\n",
              "      <td>False</td>\n",
              "      <td>False</td>\n",
              "    </tr>\n",
              "    <tr>\n",
              "      <th>4</th>\n",
              "      <td>Earth</td>\n",
              "      <td>False</td>\n",
              "      <td>TRAPPIST-1e</td>\n",
              "      <td>Young</td>\n",
              "      <td>False</td>\n",
              "      <td>True</td>\n",
              "    </tr>\n",
              "  </tbody>\n",
              "</table>\n",
              "</div>\n",
              "      <button class=\"colab-df-convert\" onclick=\"convertToInteractive('df-9fe58c89-3d68-4b82-9754-4c84d3c6b3bb')\"\n",
              "              title=\"Convert this dataframe to an interactive table.\"\n",
              "              style=\"display:none;\">\n",
              "        \n",
              "  <svg xmlns=\"http://www.w3.org/2000/svg\" height=\"24px\"viewBox=\"0 0 24 24\"\n",
              "       width=\"24px\">\n",
              "    <path d=\"M0 0h24v24H0V0z\" fill=\"none\"/>\n",
              "    <path d=\"M18.56 5.44l.94 2.06.94-2.06 2.06-.94-2.06-.94-.94-2.06-.94 2.06-2.06.94zm-11 1L8.5 8.5l.94-2.06 2.06-.94-2.06-.94L8.5 2.5l-.94 2.06-2.06.94zm10 10l.94 2.06.94-2.06 2.06-.94-2.06-.94-.94-2.06-.94 2.06-2.06.94z\"/><path d=\"M17.41 7.96l-1.37-1.37c-.4-.4-.92-.59-1.43-.59-.52 0-1.04.2-1.43.59L10.3 9.45l-7.72 7.72c-.78.78-.78 2.05 0 2.83L4 21.41c.39.39.9.59 1.41.59.51 0 1.02-.2 1.41-.59l7.78-7.78 2.81-2.81c.8-.78.8-2.07 0-2.86zM5.41 20L4 18.59l7.72-7.72 1.47 1.35L5.41 20z\"/>\n",
              "  </svg>\n",
              "      </button>\n",
              "      \n",
              "  <style>\n",
              "    .colab-df-container {\n",
              "      display:flex;\n",
              "      flex-wrap:wrap;\n",
              "      gap: 12px;\n",
              "    }\n",
              "\n",
              "    .colab-df-convert {\n",
              "      background-color: #E8F0FE;\n",
              "      border: none;\n",
              "      border-radius: 50%;\n",
              "      cursor: pointer;\n",
              "      display: none;\n",
              "      fill: #1967D2;\n",
              "      height: 32px;\n",
              "      padding: 0 0 0 0;\n",
              "      width: 32px;\n",
              "    }\n",
              "\n",
              "    .colab-df-convert:hover {\n",
              "      background-color: #E2EBFA;\n",
              "      box-shadow: 0px 1px 2px rgba(60, 64, 67, 0.3), 0px 1px 3px 1px rgba(60, 64, 67, 0.15);\n",
              "      fill: #174EA6;\n",
              "    }\n",
              "\n",
              "    [theme=dark] .colab-df-convert {\n",
              "      background-color: #3B4455;\n",
              "      fill: #D2E3FC;\n",
              "    }\n",
              "\n",
              "    [theme=dark] .colab-df-convert:hover {\n",
              "      background-color: #434B5C;\n",
              "      box-shadow: 0px 1px 3px 1px rgba(0, 0, 0, 0.15);\n",
              "      filter: drop-shadow(0px 1px 2px rgba(0, 0, 0, 0.3));\n",
              "      fill: #FFFFFF;\n",
              "    }\n",
              "  </style>\n",
              "\n",
              "      <script>\n",
              "        const buttonEl =\n",
              "          document.querySelector('#df-9fe58c89-3d68-4b82-9754-4c84d3c6b3bb button.colab-df-convert');\n",
              "        buttonEl.style.display =\n",
              "          google.colab.kernel.accessAllowed ? 'block' : 'none';\n",
              "\n",
              "        async function convertToInteractive(key) {\n",
              "          const element = document.querySelector('#df-9fe58c89-3d68-4b82-9754-4c84d3c6b3bb');\n",
              "          const dataTable =\n",
              "            await google.colab.kernel.invokeFunction('convertToInteractive',\n",
              "                                                     [key], {});\n",
              "          if (!dataTable) return;\n",
              "\n",
              "          const docLinkHtml = 'Like what you see? Visit the ' +\n",
              "            '<a target=\"_blank\" href=https://colab.research.google.com/notebooks/data_table.ipynb>data table notebook</a>'\n",
              "            + ' to learn more about interactive tables.';\n",
              "          element.innerHTML = '';\n",
              "          dataTable['output_type'] = 'display_data';\n",
              "          await google.colab.output.renderOutput(dataTable, element);\n",
              "          const docLink = document.createElement('div');\n",
              "          docLink.innerHTML = docLinkHtml;\n",
              "          element.appendChild(docLink);\n",
              "        }\n",
              "      </script>\n",
              "    </div>\n",
              "  </div>\n",
              "  "
            ]
          },
          "metadata": {},
          "execution_count": 17
        }
      ]
    },
    {
      "cell_type": "markdown",
      "source": [
        "Ahora que tenemos el dataset limpio, tenemos que dejarlo listo para que el árbol de decisión pueda usarlo. Para esto, primero debemos transformar las columnas categóricas de string a un valor numérico. Para esto usaremos el método `get_dummies`, que genera una columna de 0 y 1, por cada categoría de la columna original. (Esto se llama [`One Hot Encoding`](https://interactivechaos.com/es/manual/tutorial-de-machine-learning/one-hot-encoding)). Veamos un ejemplo con la columna `HomePlanet`."
      ],
      "metadata": {
        "id": "qZaPp6hprMFQ"
      }
    },
    {
      "cell_type": "code",
      "source": [
        "pd.get_dummies(dataset, columns=[\"HomePlanet\"]).head()"
      ],
      "metadata": {
        "colab": {
          "base_uri": "https://localhost:8080/",
          "height": 357
        },
        "id": "d9o5i50IqfLs",
        "outputId": "fcf976db-6b64-4d55-e426-a48c386098ac"
      },
      "execution_count": null,
      "outputs": [
        {
          "output_type": "execute_result",
          "data": {
            "text/plain": [
              "  CryoSleep  Destination    Age    VIP  Transported  HomePlanet_Earth  \\\n",
              "0     False  TRAPPIST-1e  Adult  False        False                 0   \n",
              "1     False  TRAPPIST-1e  Young  False         True                 1   \n",
              "2     False  TRAPPIST-1e  Adult   True        False                 0   \n",
              "3     False  TRAPPIST-1e  Adult  False        False                 0   \n",
              "4     False  TRAPPIST-1e  Young  False         True                 1   \n",
              "\n",
              "   HomePlanet_Europa  HomePlanet_Mars  \n",
              "0                  1                0  \n",
              "1                  0                0  \n",
              "2                  1                0  \n",
              "3                  1                0  \n",
              "4                  0                0  "
            ],
            "text/html": [
              "\n",
              "  <div id=\"df-bb5c4f3b-b4f1-45b8-9fcf-9fd3085e7cd3\">\n",
              "    <div class=\"colab-df-container\">\n",
              "      <div>\n",
              "<style scoped>\n",
              "    .dataframe tbody tr th:only-of-type {\n",
              "        vertical-align: middle;\n",
              "    }\n",
              "\n",
              "    .dataframe tbody tr th {\n",
              "        vertical-align: top;\n",
              "    }\n",
              "\n",
              "    .dataframe thead th {\n",
              "        text-align: right;\n",
              "    }\n",
              "</style>\n",
              "<table border=\"1\" class=\"dataframe\">\n",
              "  <thead>\n",
              "    <tr style=\"text-align: right;\">\n",
              "      <th></th>\n",
              "      <th>CryoSleep</th>\n",
              "      <th>Destination</th>\n",
              "      <th>Age</th>\n",
              "      <th>VIP</th>\n",
              "      <th>Transported</th>\n",
              "      <th>HomePlanet_Earth</th>\n",
              "      <th>HomePlanet_Europa</th>\n",
              "      <th>HomePlanet_Mars</th>\n",
              "    </tr>\n",
              "  </thead>\n",
              "  <tbody>\n",
              "    <tr>\n",
              "      <th>0</th>\n",
              "      <td>False</td>\n",
              "      <td>TRAPPIST-1e</td>\n",
              "      <td>Adult</td>\n",
              "      <td>False</td>\n",
              "      <td>False</td>\n",
              "      <td>0</td>\n",
              "      <td>1</td>\n",
              "      <td>0</td>\n",
              "    </tr>\n",
              "    <tr>\n",
              "      <th>1</th>\n",
              "      <td>False</td>\n",
              "      <td>TRAPPIST-1e</td>\n",
              "      <td>Young</td>\n",
              "      <td>False</td>\n",
              "      <td>True</td>\n",
              "      <td>1</td>\n",
              "      <td>0</td>\n",
              "      <td>0</td>\n",
              "    </tr>\n",
              "    <tr>\n",
              "      <th>2</th>\n",
              "      <td>False</td>\n",
              "      <td>TRAPPIST-1e</td>\n",
              "      <td>Adult</td>\n",
              "      <td>True</td>\n",
              "      <td>False</td>\n",
              "      <td>0</td>\n",
              "      <td>1</td>\n",
              "      <td>0</td>\n",
              "    </tr>\n",
              "    <tr>\n",
              "      <th>3</th>\n",
              "      <td>False</td>\n",
              "      <td>TRAPPIST-1e</td>\n",
              "      <td>Adult</td>\n",
              "      <td>False</td>\n",
              "      <td>False</td>\n",
              "      <td>0</td>\n",
              "      <td>1</td>\n",
              "      <td>0</td>\n",
              "    </tr>\n",
              "    <tr>\n",
              "      <th>4</th>\n",
              "      <td>False</td>\n",
              "      <td>TRAPPIST-1e</td>\n",
              "      <td>Young</td>\n",
              "      <td>False</td>\n",
              "      <td>True</td>\n",
              "      <td>1</td>\n",
              "      <td>0</td>\n",
              "      <td>0</td>\n",
              "    </tr>\n",
              "  </tbody>\n",
              "</table>\n",
              "</div>\n",
              "      <button class=\"colab-df-convert\" onclick=\"convertToInteractive('df-bb5c4f3b-b4f1-45b8-9fcf-9fd3085e7cd3')\"\n",
              "              title=\"Convert this dataframe to an interactive table.\"\n",
              "              style=\"display:none;\">\n",
              "        \n",
              "  <svg xmlns=\"http://www.w3.org/2000/svg\" height=\"24px\"viewBox=\"0 0 24 24\"\n",
              "       width=\"24px\">\n",
              "    <path d=\"M0 0h24v24H0V0z\" fill=\"none\"/>\n",
              "    <path d=\"M18.56 5.44l.94 2.06.94-2.06 2.06-.94-2.06-.94-.94-2.06-.94 2.06-2.06.94zm-11 1L8.5 8.5l.94-2.06 2.06-.94-2.06-.94L8.5 2.5l-.94 2.06-2.06.94zm10 10l.94 2.06.94-2.06 2.06-.94-2.06-.94-.94-2.06-.94 2.06-2.06.94z\"/><path d=\"M17.41 7.96l-1.37-1.37c-.4-.4-.92-.59-1.43-.59-.52 0-1.04.2-1.43.59L10.3 9.45l-7.72 7.72c-.78.78-.78 2.05 0 2.83L4 21.41c.39.39.9.59 1.41.59.51 0 1.02-.2 1.41-.59l7.78-7.78 2.81-2.81c.8-.78.8-2.07 0-2.86zM5.41 20L4 18.59l7.72-7.72 1.47 1.35L5.41 20z\"/>\n",
              "  </svg>\n",
              "      </button>\n",
              "      \n",
              "  <style>\n",
              "    .colab-df-container {\n",
              "      display:flex;\n",
              "      flex-wrap:wrap;\n",
              "      gap: 12px;\n",
              "    }\n",
              "\n",
              "    .colab-df-convert {\n",
              "      background-color: #E8F0FE;\n",
              "      border: none;\n",
              "      border-radius: 50%;\n",
              "      cursor: pointer;\n",
              "      display: none;\n",
              "      fill: #1967D2;\n",
              "      height: 32px;\n",
              "      padding: 0 0 0 0;\n",
              "      width: 32px;\n",
              "    }\n",
              "\n",
              "    .colab-df-convert:hover {\n",
              "      background-color: #E2EBFA;\n",
              "      box-shadow: 0px 1px 2px rgba(60, 64, 67, 0.3), 0px 1px 3px 1px rgba(60, 64, 67, 0.15);\n",
              "      fill: #174EA6;\n",
              "    }\n",
              "\n",
              "    [theme=dark] .colab-df-convert {\n",
              "      background-color: #3B4455;\n",
              "      fill: #D2E3FC;\n",
              "    }\n",
              "\n",
              "    [theme=dark] .colab-df-convert:hover {\n",
              "      background-color: #434B5C;\n",
              "      box-shadow: 0px 1px 3px 1px rgba(0, 0, 0, 0.15);\n",
              "      filter: drop-shadow(0px 1px 2px rgba(0, 0, 0, 0.3));\n",
              "      fill: #FFFFFF;\n",
              "    }\n",
              "  </style>\n",
              "\n",
              "      <script>\n",
              "        const buttonEl =\n",
              "          document.querySelector('#df-bb5c4f3b-b4f1-45b8-9fcf-9fd3085e7cd3 button.colab-df-convert');\n",
              "        buttonEl.style.display =\n",
              "          google.colab.kernel.accessAllowed ? 'block' : 'none';\n",
              "\n",
              "        async function convertToInteractive(key) {\n",
              "          const element = document.querySelector('#df-bb5c4f3b-b4f1-45b8-9fcf-9fd3085e7cd3');\n",
              "          const dataTable =\n",
              "            await google.colab.kernel.invokeFunction('convertToInteractive',\n",
              "                                                     [key], {});\n",
              "          if (!dataTable) return;\n",
              "\n",
              "          const docLinkHtml = 'Like what you see? Visit the ' +\n",
              "            '<a target=\"_blank\" href=https://colab.research.google.com/notebooks/data_table.ipynb>data table notebook</a>'\n",
              "            + ' to learn more about interactive tables.';\n",
              "          element.innerHTML = '';\n",
              "          dataTable['output_type'] = 'display_data';\n",
              "          await google.colab.output.renderOutput(dataTable, element);\n",
              "          const docLink = document.createElement('div');\n",
              "          docLink.innerHTML = docLinkHtml;\n",
              "          element.appendChild(docLink);\n",
              "        }\n",
              "      </script>\n",
              "    </div>\n",
              "  </div>\n",
              "  "
            ]
          },
          "metadata": {},
          "execution_count": 18
        }
      ]
    },
    {
      "cell_type": "code",
      "source": [
        "dataset = pd.get_dummies(dataset, columns=[\"HomePlanet\", \"Destination\",\t\"Age\"])"
      ],
      "metadata": {
        "id": "RawY2ZUBLs2D"
      },
      "execution_count": null,
      "outputs": []
    },
    {
      "cell_type": "code",
      "source": [
        "dataset.head()"
      ],
      "metadata": {
        "colab": {
          "base_uri": "https://localhost:8080/",
          "height": 288
        },
        "id": "K7_Ubsorr7-4",
        "outputId": "61f10d80-4e7b-456f-db90-8d89167d4b18"
      },
      "execution_count": null,
      "outputs": [
        {
          "output_type": "execute_result",
          "data": {
            "text/plain": [
              "  CryoSleep    VIP  Transported  HomePlanet_Earth  HomePlanet_Europa  \\\n",
              "0     False  False        False                 0                  1   \n",
              "1     False  False         True                 1                  0   \n",
              "2     False   True        False                 0                  1   \n",
              "3     False  False        False                 0                  1   \n",
              "4     False  False         True                 1                  0   \n",
              "\n",
              "   HomePlanet_Mars  Destination_55 Cancri e  Destination_PSO J318.5-22  \\\n",
              "0                0                        0                          0   \n",
              "1                0                        0                          0   \n",
              "2                0                        0                          0   \n",
              "3                0                        0                          0   \n",
              "4                0                        0                          0   \n",
              "\n",
              "   Destination_TRAPPIST-1e  Age_Young  Age_Adult  Age_Elderly  \n",
              "0                        1          0          1            0  \n",
              "1                        1          1          0            0  \n",
              "2                        1          0          1            0  \n",
              "3                        1          0          1            0  \n",
              "4                        1          1          0            0  "
            ],
            "text/html": [
              "\n",
              "  <div id=\"df-7ed51115-841a-494c-aa9a-82d84688cb55\">\n",
              "    <div class=\"colab-df-container\">\n",
              "      <div>\n",
              "<style scoped>\n",
              "    .dataframe tbody tr th:only-of-type {\n",
              "        vertical-align: middle;\n",
              "    }\n",
              "\n",
              "    .dataframe tbody tr th {\n",
              "        vertical-align: top;\n",
              "    }\n",
              "\n",
              "    .dataframe thead th {\n",
              "        text-align: right;\n",
              "    }\n",
              "</style>\n",
              "<table border=\"1\" class=\"dataframe\">\n",
              "  <thead>\n",
              "    <tr style=\"text-align: right;\">\n",
              "      <th></th>\n",
              "      <th>CryoSleep</th>\n",
              "      <th>VIP</th>\n",
              "      <th>Transported</th>\n",
              "      <th>HomePlanet_Earth</th>\n",
              "      <th>HomePlanet_Europa</th>\n",
              "      <th>HomePlanet_Mars</th>\n",
              "      <th>Destination_55 Cancri e</th>\n",
              "      <th>Destination_PSO J318.5-22</th>\n",
              "      <th>Destination_TRAPPIST-1e</th>\n",
              "      <th>Age_Young</th>\n",
              "      <th>Age_Adult</th>\n",
              "      <th>Age_Elderly</th>\n",
              "    </tr>\n",
              "  </thead>\n",
              "  <tbody>\n",
              "    <tr>\n",
              "      <th>0</th>\n",
              "      <td>False</td>\n",
              "      <td>False</td>\n",
              "      <td>False</td>\n",
              "      <td>0</td>\n",
              "      <td>1</td>\n",
              "      <td>0</td>\n",
              "      <td>0</td>\n",
              "      <td>0</td>\n",
              "      <td>1</td>\n",
              "      <td>0</td>\n",
              "      <td>1</td>\n",
              "      <td>0</td>\n",
              "    </tr>\n",
              "    <tr>\n",
              "      <th>1</th>\n",
              "      <td>False</td>\n",
              "      <td>False</td>\n",
              "      <td>True</td>\n",
              "      <td>1</td>\n",
              "      <td>0</td>\n",
              "      <td>0</td>\n",
              "      <td>0</td>\n",
              "      <td>0</td>\n",
              "      <td>1</td>\n",
              "      <td>1</td>\n",
              "      <td>0</td>\n",
              "      <td>0</td>\n",
              "    </tr>\n",
              "    <tr>\n",
              "      <th>2</th>\n",
              "      <td>False</td>\n",
              "      <td>True</td>\n",
              "      <td>False</td>\n",
              "      <td>0</td>\n",
              "      <td>1</td>\n",
              "      <td>0</td>\n",
              "      <td>0</td>\n",
              "      <td>0</td>\n",
              "      <td>1</td>\n",
              "      <td>0</td>\n",
              "      <td>1</td>\n",
              "      <td>0</td>\n",
              "    </tr>\n",
              "    <tr>\n",
              "      <th>3</th>\n",
              "      <td>False</td>\n",
              "      <td>False</td>\n",
              "      <td>False</td>\n",
              "      <td>0</td>\n",
              "      <td>1</td>\n",
              "      <td>0</td>\n",
              "      <td>0</td>\n",
              "      <td>0</td>\n",
              "      <td>1</td>\n",
              "      <td>0</td>\n",
              "      <td>1</td>\n",
              "      <td>0</td>\n",
              "    </tr>\n",
              "    <tr>\n",
              "      <th>4</th>\n",
              "      <td>False</td>\n",
              "      <td>False</td>\n",
              "      <td>True</td>\n",
              "      <td>1</td>\n",
              "      <td>0</td>\n",
              "      <td>0</td>\n",
              "      <td>0</td>\n",
              "      <td>0</td>\n",
              "      <td>1</td>\n",
              "      <td>1</td>\n",
              "      <td>0</td>\n",
              "      <td>0</td>\n",
              "    </tr>\n",
              "  </tbody>\n",
              "</table>\n",
              "</div>\n",
              "      <button class=\"colab-df-convert\" onclick=\"convertToInteractive('df-7ed51115-841a-494c-aa9a-82d84688cb55')\"\n",
              "              title=\"Convert this dataframe to an interactive table.\"\n",
              "              style=\"display:none;\">\n",
              "        \n",
              "  <svg xmlns=\"http://www.w3.org/2000/svg\" height=\"24px\"viewBox=\"0 0 24 24\"\n",
              "       width=\"24px\">\n",
              "    <path d=\"M0 0h24v24H0V0z\" fill=\"none\"/>\n",
              "    <path d=\"M18.56 5.44l.94 2.06.94-2.06 2.06-.94-2.06-.94-.94-2.06-.94 2.06-2.06.94zm-11 1L8.5 8.5l.94-2.06 2.06-.94-2.06-.94L8.5 2.5l-.94 2.06-2.06.94zm10 10l.94 2.06.94-2.06 2.06-.94-2.06-.94-.94-2.06-.94 2.06-2.06.94z\"/><path d=\"M17.41 7.96l-1.37-1.37c-.4-.4-.92-.59-1.43-.59-.52 0-1.04.2-1.43.59L10.3 9.45l-7.72 7.72c-.78.78-.78 2.05 0 2.83L4 21.41c.39.39.9.59 1.41.59.51 0 1.02-.2 1.41-.59l7.78-7.78 2.81-2.81c.8-.78.8-2.07 0-2.86zM5.41 20L4 18.59l7.72-7.72 1.47 1.35L5.41 20z\"/>\n",
              "  </svg>\n",
              "      </button>\n",
              "      \n",
              "  <style>\n",
              "    .colab-df-container {\n",
              "      display:flex;\n",
              "      flex-wrap:wrap;\n",
              "      gap: 12px;\n",
              "    }\n",
              "\n",
              "    .colab-df-convert {\n",
              "      background-color: #E8F0FE;\n",
              "      border: none;\n",
              "      border-radius: 50%;\n",
              "      cursor: pointer;\n",
              "      display: none;\n",
              "      fill: #1967D2;\n",
              "      height: 32px;\n",
              "      padding: 0 0 0 0;\n",
              "      width: 32px;\n",
              "    }\n",
              "\n",
              "    .colab-df-convert:hover {\n",
              "      background-color: #E2EBFA;\n",
              "      box-shadow: 0px 1px 2px rgba(60, 64, 67, 0.3), 0px 1px 3px 1px rgba(60, 64, 67, 0.15);\n",
              "      fill: #174EA6;\n",
              "    }\n",
              "\n",
              "    [theme=dark] .colab-df-convert {\n",
              "      background-color: #3B4455;\n",
              "      fill: #D2E3FC;\n",
              "    }\n",
              "\n",
              "    [theme=dark] .colab-df-convert:hover {\n",
              "      background-color: #434B5C;\n",
              "      box-shadow: 0px 1px 3px 1px rgba(0, 0, 0, 0.15);\n",
              "      filter: drop-shadow(0px 1px 2px rgba(0, 0, 0, 0.3));\n",
              "      fill: #FFFFFF;\n",
              "    }\n",
              "  </style>\n",
              "\n",
              "      <script>\n",
              "        const buttonEl =\n",
              "          document.querySelector('#df-7ed51115-841a-494c-aa9a-82d84688cb55 button.colab-df-convert');\n",
              "        buttonEl.style.display =\n",
              "          google.colab.kernel.accessAllowed ? 'block' : 'none';\n",
              "\n",
              "        async function convertToInteractive(key) {\n",
              "          const element = document.querySelector('#df-7ed51115-841a-494c-aa9a-82d84688cb55');\n",
              "          const dataTable =\n",
              "            await google.colab.kernel.invokeFunction('convertToInteractive',\n",
              "                                                     [key], {});\n",
              "          if (!dataTable) return;\n",
              "\n",
              "          const docLinkHtml = 'Like what you see? Visit the ' +\n",
              "            '<a target=\"_blank\" href=https://colab.research.google.com/notebooks/data_table.ipynb>data table notebook</a>'\n",
              "            + ' to learn more about interactive tables.';\n",
              "          element.innerHTML = '';\n",
              "          dataTable['output_type'] = 'display_data';\n",
              "          await google.colab.output.renderOutput(dataTable, element);\n",
              "          const docLink = document.createElement('div');\n",
              "          docLink.innerHTML = docLinkHtml;\n",
              "          element.appendChild(docLink);\n",
              "        }\n",
              "      </script>\n",
              "    </div>\n",
              "  </div>\n",
              "  "
            ]
          },
          "metadata": {},
          "execution_count": 20
        }
      ]
    },
    {
      "cell_type": "markdown",
      "source": [
        "A continuación, como en las columnas `CryoSleep, VIP, Transported` tenemos solo valores `True` o `False`, transformaremos cada columna en una nueva con 0 ( = False) y 1 (= True).\n",
        " \n",
        "Para esto, usaremos el método `LabelEncoder`."
      ],
      "metadata": {
        "id": "d7K8s12Ur_gn"
      }
    },
    {
      "cell_type": "code",
      "source": [
        "from sklearn.preprocessing import LabelEncoder"
      ],
      "metadata": {
        "id": "la3OwgB9stc4"
      },
      "execution_count": null,
      "outputs": []
    },
    {
      "cell_type": "code",
      "source": [
        "encoder = LabelEncoder()\n",
        "dataset[\"CryoSleep\"] = encoder.fit_transform(dataset[\"CryoSleep\"])\n",
        "dataset[\"VIP\"] = encoder.fit_transform(dataset[\"VIP\"])\n",
        "dataset[\"Transported\"] = encoder.fit_transform(dataset[\"Transported\"])"
      ],
      "metadata": {
        "id": "-f74asQVsw0D"
      },
      "execution_count": null,
      "outputs": []
    },
    {
      "cell_type": "code",
      "source": [
        "dataset.head()"
      ],
      "metadata": {
        "colab": {
          "base_uri": "https://localhost:8080/",
          "height": 288
        },
        "id": "0fulXyELtnNz",
        "outputId": "53802bc4-da2c-4f66-b32e-59f7ce8cb4ee"
      },
      "execution_count": null,
      "outputs": [
        {
          "output_type": "execute_result",
          "data": {
            "text/plain": [
              "   CryoSleep  VIP  Transported  HomePlanet_Earth  HomePlanet_Europa  \\\n",
              "0          0    0            0                 0                  1   \n",
              "1          0    0            1                 1                  0   \n",
              "2          0    1            0                 0                  1   \n",
              "3          0    0            0                 0                  1   \n",
              "4          0    0            1                 1                  0   \n",
              "\n",
              "   HomePlanet_Mars  Destination_55 Cancri e  Destination_PSO J318.5-22  \\\n",
              "0                0                        0                          0   \n",
              "1                0                        0                          0   \n",
              "2                0                        0                          0   \n",
              "3                0                        0                          0   \n",
              "4                0                        0                          0   \n",
              "\n",
              "   Destination_TRAPPIST-1e  Age_Young  Age_Adult  Age_Elderly  \n",
              "0                        1          0          1            0  \n",
              "1                        1          1          0            0  \n",
              "2                        1          0          1            0  \n",
              "3                        1          0          1            0  \n",
              "4                        1          1          0            0  "
            ],
            "text/html": [
              "\n",
              "  <div id=\"df-0ccab292-e317-4e87-b8fc-19d4a3937548\">\n",
              "    <div class=\"colab-df-container\">\n",
              "      <div>\n",
              "<style scoped>\n",
              "    .dataframe tbody tr th:only-of-type {\n",
              "        vertical-align: middle;\n",
              "    }\n",
              "\n",
              "    .dataframe tbody tr th {\n",
              "        vertical-align: top;\n",
              "    }\n",
              "\n",
              "    .dataframe thead th {\n",
              "        text-align: right;\n",
              "    }\n",
              "</style>\n",
              "<table border=\"1\" class=\"dataframe\">\n",
              "  <thead>\n",
              "    <tr style=\"text-align: right;\">\n",
              "      <th></th>\n",
              "      <th>CryoSleep</th>\n",
              "      <th>VIP</th>\n",
              "      <th>Transported</th>\n",
              "      <th>HomePlanet_Earth</th>\n",
              "      <th>HomePlanet_Europa</th>\n",
              "      <th>HomePlanet_Mars</th>\n",
              "      <th>Destination_55 Cancri e</th>\n",
              "      <th>Destination_PSO J318.5-22</th>\n",
              "      <th>Destination_TRAPPIST-1e</th>\n",
              "      <th>Age_Young</th>\n",
              "      <th>Age_Adult</th>\n",
              "      <th>Age_Elderly</th>\n",
              "    </tr>\n",
              "  </thead>\n",
              "  <tbody>\n",
              "    <tr>\n",
              "      <th>0</th>\n",
              "      <td>0</td>\n",
              "      <td>0</td>\n",
              "      <td>0</td>\n",
              "      <td>0</td>\n",
              "      <td>1</td>\n",
              "      <td>0</td>\n",
              "      <td>0</td>\n",
              "      <td>0</td>\n",
              "      <td>1</td>\n",
              "      <td>0</td>\n",
              "      <td>1</td>\n",
              "      <td>0</td>\n",
              "    </tr>\n",
              "    <tr>\n",
              "      <th>1</th>\n",
              "      <td>0</td>\n",
              "      <td>0</td>\n",
              "      <td>1</td>\n",
              "      <td>1</td>\n",
              "      <td>0</td>\n",
              "      <td>0</td>\n",
              "      <td>0</td>\n",
              "      <td>0</td>\n",
              "      <td>1</td>\n",
              "      <td>1</td>\n",
              "      <td>0</td>\n",
              "      <td>0</td>\n",
              "    </tr>\n",
              "    <tr>\n",
              "      <th>2</th>\n",
              "      <td>0</td>\n",
              "      <td>1</td>\n",
              "      <td>0</td>\n",
              "      <td>0</td>\n",
              "      <td>1</td>\n",
              "      <td>0</td>\n",
              "      <td>0</td>\n",
              "      <td>0</td>\n",
              "      <td>1</td>\n",
              "      <td>0</td>\n",
              "      <td>1</td>\n",
              "      <td>0</td>\n",
              "    </tr>\n",
              "    <tr>\n",
              "      <th>3</th>\n",
              "      <td>0</td>\n",
              "      <td>0</td>\n",
              "      <td>0</td>\n",
              "      <td>0</td>\n",
              "      <td>1</td>\n",
              "      <td>0</td>\n",
              "      <td>0</td>\n",
              "      <td>0</td>\n",
              "      <td>1</td>\n",
              "      <td>0</td>\n",
              "      <td>1</td>\n",
              "      <td>0</td>\n",
              "    </tr>\n",
              "    <tr>\n",
              "      <th>4</th>\n",
              "      <td>0</td>\n",
              "      <td>0</td>\n",
              "      <td>1</td>\n",
              "      <td>1</td>\n",
              "      <td>0</td>\n",
              "      <td>0</td>\n",
              "      <td>0</td>\n",
              "      <td>0</td>\n",
              "      <td>1</td>\n",
              "      <td>1</td>\n",
              "      <td>0</td>\n",
              "      <td>0</td>\n",
              "    </tr>\n",
              "  </tbody>\n",
              "</table>\n",
              "</div>\n",
              "      <button class=\"colab-df-convert\" onclick=\"convertToInteractive('df-0ccab292-e317-4e87-b8fc-19d4a3937548')\"\n",
              "              title=\"Convert this dataframe to an interactive table.\"\n",
              "              style=\"display:none;\">\n",
              "        \n",
              "  <svg xmlns=\"http://www.w3.org/2000/svg\" height=\"24px\"viewBox=\"0 0 24 24\"\n",
              "       width=\"24px\">\n",
              "    <path d=\"M0 0h24v24H0V0z\" fill=\"none\"/>\n",
              "    <path d=\"M18.56 5.44l.94 2.06.94-2.06 2.06-.94-2.06-.94-.94-2.06-.94 2.06-2.06.94zm-11 1L8.5 8.5l.94-2.06 2.06-.94-2.06-.94L8.5 2.5l-.94 2.06-2.06.94zm10 10l.94 2.06.94-2.06 2.06-.94-2.06-.94-.94-2.06-.94 2.06-2.06.94z\"/><path d=\"M17.41 7.96l-1.37-1.37c-.4-.4-.92-.59-1.43-.59-.52 0-1.04.2-1.43.59L10.3 9.45l-7.72 7.72c-.78.78-.78 2.05 0 2.83L4 21.41c.39.39.9.59 1.41.59.51 0 1.02-.2 1.41-.59l7.78-7.78 2.81-2.81c.8-.78.8-2.07 0-2.86zM5.41 20L4 18.59l7.72-7.72 1.47 1.35L5.41 20z\"/>\n",
              "  </svg>\n",
              "      </button>\n",
              "      \n",
              "  <style>\n",
              "    .colab-df-container {\n",
              "      display:flex;\n",
              "      flex-wrap:wrap;\n",
              "      gap: 12px;\n",
              "    }\n",
              "\n",
              "    .colab-df-convert {\n",
              "      background-color: #E8F0FE;\n",
              "      border: none;\n",
              "      border-radius: 50%;\n",
              "      cursor: pointer;\n",
              "      display: none;\n",
              "      fill: #1967D2;\n",
              "      height: 32px;\n",
              "      padding: 0 0 0 0;\n",
              "      width: 32px;\n",
              "    }\n",
              "\n",
              "    .colab-df-convert:hover {\n",
              "      background-color: #E2EBFA;\n",
              "      box-shadow: 0px 1px 2px rgba(60, 64, 67, 0.3), 0px 1px 3px 1px rgba(60, 64, 67, 0.15);\n",
              "      fill: #174EA6;\n",
              "    }\n",
              "\n",
              "    [theme=dark] .colab-df-convert {\n",
              "      background-color: #3B4455;\n",
              "      fill: #D2E3FC;\n",
              "    }\n",
              "\n",
              "    [theme=dark] .colab-df-convert:hover {\n",
              "      background-color: #434B5C;\n",
              "      box-shadow: 0px 1px 3px 1px rgba(0, 0, 0, 0.15);\n",
              "      filter: drop-shadow(0px 1px 2px rgba(0, 0, 0, 0.3));\n",
              "      fill: #FFFFFF;\n",
              "    }\n",
              "  </style>\n",
              "\n",
              "      <script>\n",
              "        const buttonEl =\n",
              "          document.querySelector('#df-0ccab292-e317-4e87-b8fc-19d4a3937548 button.colab-df-convert');\n",
              "        buttonEl.style.display =\n",
              "          google.colab.kernel.accessAllowed ? 'block' : 'none';\n",
              "\n",
              "        async function convertToInteractive(key) {\n",
              "          const element = document.querySelector('#df-0ccab292-e317-4e87-b8fc-19d4a3937548');\n",
              "          const dataTable =\n",
              "            await google.colab.kernel.invokeFunction('convertToInteractive',\n",
              "                                                     [key], {});\n",
              "          if (!dataTable) return;\n",
              "\n",
              "          const docLinkHtml = 'Like what you see? Visit the ' +\n",
              "            '<a target=\"_blank\" href=https://colab.research.google.com/notebooks/data_table.ipynb>data table notebook</a>'\n",
              "            + ' to learn more about interactive tables.';\n",
              "          element.innerHTML = '';\n",
              "          dataTable['output_type'] = 'display_data';\n",
              "          await google.colab.output.renderOutput(dataTable, element);\n",
              "          const docLink = document.createElement('div');\n",
              "          docLink.innerHTML = docLinkHtml;\n",
              "          element.appendChild(docLink);\n",
              "        }\n",
              "      </script>\n",
              "    </div>\n",
              "  </div>\n",
              "  "
            ]
          },
          "metadata": {},
          "execution_count": 23
        }
      ]
    },
    {
      "cell_type": "markdown",
      "source": [
        "Por último, nos interesa saber cual es el tamaño final de nuestro dataset para saber con que trabajaremos."
      ],
      "metadata": {
        "id": "ZfYmqmvAoM4W"
      }
    },
    {
      "cell_type": "code",
      "source": [
        "dataset.shape"
      ],
      "metadata": {
        "colab": {
          "base_uri": "https://localhost:8080/"
        },
        "id": "QiO2YPR_oJTl",
        "outputId": "b46e2146-2724-4c2d-94a0-f04af415d0a2"
      },
      "execution_count": null,
      "outputs": [
        {
          "output_type": "execute_result",
          "data": {
            "text/plain": [
              "(7930, 12)"
            ]
          },
          "metadata": {},
          "execution_count": 24
        }
      ]
    },
    {
      "cell_type": "markdown",
      "source": [
        "Ahora que tenemos nuestro set de datos listo, debemos separarlo en la matriz de características (`X`) y el vector de etiquetas (labels, `y`) para trabjar con el."
      ],
      "metadata": {
        "id": "l_vEN-E_oWsT"
      }
    },
    {
      "cell_type": "code",
      "source": [
        "X_data = dataset.loc[:, dataset.columns != 'Transported']\n",
        "y_data = dataset['Transported']"
      ],
      "metadata": {
        "id": "892C2uQNh5HZ"
      },
      "execution_count": null,
      "outputs": []
    },
    {
      "cell_type": "code",
      "source": [
        "X_data"
      ],
      "metadata": {
        "colab": {
          "base_uri": "https://localhost:8080/",
          "height": 505
        },
        "id": "Le3vb4Mmz43H",
        "outputId": "4906bae1-22f6-4602-9ac7-60e02da66bf8"
      },
      "execution_count": null,
      "outputs": [
        {
          "output_type": "execute_result",
          "data": {
            "text/plain": [
              "      CryoSleep  VIP  HomePlanet_Earth  HomePlanet_Europa  HomePlanet_Mars  \\\n",
              "0             0    0                 0                  1                0   \n",
              "1             0    0                 1                  0                0   \n",
              "2             0    1                 0                  1                0   \n",
              "3             0    0                 0                  1                0   \n",
              "4             0    0                 1                  0                0   \n",
              "...         ...  ...               ...                ...              ...   \n",
              "8688          0    1                 0                  1                0   \n",
              "8689          1    0                 1                  0                0   \n",
              "8690          0    0                 1                  0                0   \n",
              "8691          0    0                 0                  1                0   \n",
              "8692          0    0                 0                  1                0   \n",
              "\n",
              "      Destination_55 Cancri e  Destination_PSO J318.5-22  \\\n",
              "0                           0                          0   \n",
              "1                           0                          0   \n",
              "2                           0                          0   \n",
              "3                           0                          0   \n",
              "4                           0                          0   \n",
              "...                       ...                        ...   \n",
              "8688                        1                          0   \n",
              "8689                        0                          1   \n",
              "8690                        0                          0   \n",
              "8691                        1                          0   \n",
              "8692                        0                          0   \n",
              "\n",
              "      Destination_TRAPPIST-1e  Age_Young  Age_Adult  Age_Elderly  \n",
              "0                           1          0          1            0  \n",
              "1                           1          1          0            0  \n",
              "2                           1          0          1            0  \n",
              "3                           1          0          1            0  \n",
              "4                           1          1          0            0  \n",
              "...                       ...        ...        ...          ...  \n",
              "8688                        0          0          1            0  \n",
              "8689                        0          1          0            0  \n",
              "8690                        1          1          0            0  \n",
              "8691                        0          0          1            0  \n",
              "8692                        1          0          1            0  \n",
              "\n",
              "[7930 rows x 11 columns]"
            ],
            "text/html": [
              "\n",
              "  <div id=\"df-866bcd54-0391-4ec7-a933-ef36cc95b846\">\n",
              "    <div class=\"colab-df-container\">\n",
              "      <div>\n",
              "<style scoped>\n",
              "    .dataframe tbody tr th:only-of-type {\n",
              "        vertical-align: middle;\n",
              "    }\n",
              "\n",
              "    .dataframe tbody tr th {\n",
              "        vertical-align: top;\n",
              "    }\n",
              "\n",
              "    .dataframe thead th {\n",
              "        text-align: right;\n",
              "    }\n",
              "</style>\n",
              "<table border=\"1\" class=\"dataframe\">\n",
              "  <thead>\n",
              "    <tr style=\"text-align: right;\">\n",
              "      <th></th>\n",
              "      <th>CryoSleep</th>\n",
              "      <th>VIP</th>\n",
              "      <th>HomePlanet_Earth</th>\n",
              "      <th>HomePlanet_Europa</th>\n",
              "      <th>HomePlanet_Mars</th>\n",
              "      <th>Destination_55 Cancri e</th>\n",
              "      <th>Destination_PSO J318.5-22</th>\n",
              "      <th>Destination_TRAPPIST-1e</th>\n",
              "      <th>Age_Young</th>\n",
              "      <th>Age_Adult</th>\n",
              "      <th>Age_Elderly</th>\n",
              "    </tr>\n",
              "  </thead>\n",
              "  <tbody>\n",
              "    <tr>\n",
              "      <th>0</th>\n",
              "      <td>0</td>\n",
              "      <td>0</td>\n",
              "      <td>0</td>\n",
              "      <td>1</td>\n",
              "      <td>0</td>\n",
              "      <td>0</td>\n",
              "      <td>0</td>\n",
              "      <td>1</td>\n",
              "      <td>0</td>\n",
              "      <td>1</td>\n",
              "      <td>0</td>\n",
              "    </tr>\n",
              "    <tr>\n",
              "      <th>1</th>\n",
              "      <td>0</td>\n",
              "      <td>0</td>\n",
              "      <td>1</td>\n",
              "      <td>0</td>\n",
              "      <td>0</td>\n",
              "      <td>0</td>\n",
              "      <td>0</td>\n",
              "      <td>1</td>\n",
              "      <td>1</td>\n",
              "      <td>0</td>\n",
              "      <td>0</td>\n",
              "    </tr>\n",
              "    <tr>\n",
              "      <th>2</th>\n",
              "      <td>0</td>\n",
              "      <td>1</td>\n",
              "      <td>0</td>\n",
              "      <td>1</td>\n",
              "      <td>0</td>\n",
              "      <td>0</td>\n",
              "      <td>0</td>\n",
              "      <td>1</td>\n",
              "      <td>0</td>\n",
              "      <td>1</td>\n",
              "      <td>0</td>\n",
              "    </tr>\n",
              "    <tr>\n",
              "      <th>3</th>\n",
              "      <td>0</td>\n",
              "      <td>0</td>\n",
              "      <td>0</td>\n",
              "      <td>1</td>\n",
              "      <td>0</td>\n",
              "      <td>0</td>\n",
              "      <td>0</td>\n",
              "      <td>1</td>\n",
              "      <td>0</td>\n",
              "      <td>1</td>\n",
              "      <td>0</td>\n",
              "    </tr>\n",
              "    <tr>\n",
              "      <th>4</th>\n",
              "      <td>0</td>\n",
              "      <td>0</td>\n",
              "      <td>1</td>\n",
              "      <td>0</td>\n",
              "      <td>0</td>\n",
              "      <td>0</td>\n",
              "      <td>0</td>\n",
              "      <td>1</td>\n",
              "      <td>1</td>\n",
              "      <td>0</td>\n",
              "      <td>0</td>\n",
              "    </tr>\n",
              "    <tr>\n",
              "      <th>...</th>\n",
              "      <td>...</td>\n",
              "      <td>...</td>\n",
              "      <td>...</td>\n",
              "      <td>...</td>\n",
              "      <td>...</td>\n",
              "      <td>...</td>\n",
              "      <td>...</td>\n",
              "      <td>...</td>\n",
              "      <td>...</td>\n",
              "      <td>...</td>\n",
              "      <td>...</td>\n",
              "    </tr>\n",
              "    <tr>\n",
              "      <th>8688</th>\n",
              "      <td>0</td>\n",
              "      <td>1</td>\n",
              "      <td>0</td>\n",
              "      <td>1</td>\n",
              "      <td>0</td>\n",
              "      <td>1</td>\n",
              "      <td>0</td>\n",
              "      <td>0</td>\n",
              "      <td>0</td>\n",
              "      <td>1</td>\n",
              "      <td>0</td>\n",
              "    </tr>\n",
              "    <tr>\n",
              "      <th>8689</th>\n",
              "      <td>1</td>\n",
              "      <td>0</td>\n",
              "      <td>1</td>\n",
              "      <td>0</td>\n",
              "      <td>0</td>\n",
              "      <td>0</td>\n",
              "      <td>1</td>\n",
              "      <td>0</td>\n",
              "      <td>1</td>\n",
              "      <td>0</td>\n",
              "      <td>0</td>\n",
              "    </tr>\n",
              "    <tr>\n",
              "      <th>8690</th>\n",
              "      <td>0</td>\n",
              "      <td>0</td>\n",
              "      <td>1</td>\n",
              "      <td>0</td>\n",
              "      <td>0</td>\n",
              "      <td>0</td>\n",
              "      <td>0</td>\n",
              "      <td>1</td>\n",
              "      <td>1</td>\n",
              "      <td>0</td>\n",
              "      <td>0</td>\n",
              "    </tr>\n",
              "    <tr>\n",
              "      <th>8691</th>\n",
              "      <td>0</td>\n",
              "      <td>0</td>\n",
              "      <td>0</td>\n",
              "      <td>1</td>\n",
              "      <td>0</td>\n",
              "      <td>1</td>\n",
              "      <td>0</td>\n",
              "      <td>0</td>\n",
              "      <td>0</td>\n",
              "      <td>1</td>\n",
              "      <td>0</td>\n",
              "    </tr>\n",
              "    <tr>\n",
              "      <th>8692</th>\n",
              "      <td>0</td>\n",
              "      <td>0</td>\n",
              "      <td>0</td>\n",
              "      <td>1</td>\n",
              "      <td>0</td>\n",
              "      <td>0</td>\n",
              "      <td>0</td>\n",
              "      <td>1</td>\n",
              "      <td>0</td>\n",
              "      <td>1</td>\n",
              "      <td>0</td>\n",
              "    </tr>\n",
              "  </tbody>\n",
              "</table>\n",
              "<p>7930 rows × 11 columns</p>\n",
              "</div>\n",
              "      <button class=\"colab-df-convert\" onclick=\"convertToInteractive('df-866bcd54-0391-4ec7-a933-ef36cc95b846')\"\n",
              "              title=\"Convert this dataframe to an interactive table.\"\n",
              "              style=\"display:none;\">\n",
              "        \n",
              "  <svg xmlns=\"http://www.w3.org/2000/svg\" height=\"24px\"viewBox=\"0 0 24 24\"\n",
              "       width=\"24px\">\n",
              "    <path d=\"M0 0h24v24H0V0z\" fill=\"none\"/>\n",
              "    <path d=\"M18.56 5.44l.94 2.06.94-2.06 2.06-.94-2.06-.94-.94-2.06-.94 2.06-2.06.94zm-11 1L8.5 8.5l.94-2.06 2.06-.94-2.06-.94L8.5 2.5l-.94 2.06-2.06.94zm10 10l.94 2.06.94-2.06 2.06-.94-2.06-.94-.94-2.06-.94 2.06-2.06.94z\"/><path d=\"M17.41 7.96l-1.37-1.37c-.4-.4-.92-.59-1.43-.59-.52 0-1.04.2-1.43.59L10.3 9.45l-7.72 7.72c-.78.78-.78 2.05 0 2.83L4 21.41c.39.39.9.59 1.41.59.51 0 1.02-.2 1.41-.59l7.78-7.78 2.81-2.81c.8-.78.8-2.07 0-2.86zM5.41 20L4 18.59l7.72-7.72 1.47 1.35L5.41 20z\"/>\n",
              "  </svg>\n",
              "      </button>\n",
              "      \n",
              "  <style>\n",
              "    .colab-df-container {\n",
              "      display:flex;\n",
              "      flex-wrap:wrap;\n",
              "      gap: 12px;\n",
              "    }\n",
              "\n",
              "    .colab-df-convert {\n",
              "      background-color: #E8F0FE;\n",
              "      border: none;\n",
              "      border-radius: 50%;\n",
              "      cursor: pointer;\n",
              "      display: none;\n",
              "      fill: #1967D2;\n",
              "      height: 32px;\n",
              "      padding: 0 0 0 0;\n",
              "      width: 32px;\n",
              "    }\n",
              "\n",
              "    .colab-df-convert:hover {\n",
              "      background-color: #E2EBFA;\n",
              "      box-shadow: 0px 1px 2px rgba(60, 64, 67, 0.3), 0px 1px 3px 1px rgba(60, 64, 67, 0.15);\n",
              "      fill: #174EA6;\n",
              "    }\n",
              "\n",
              "    [theme=dark] .colab-df-convert {\n",
              "      background-color: #3B4455;\n",
              "      fill: #D2E3FC;\n",
              "    }\n",
              "\n",
              "    [theme=dark] .colab-df-convert:hover {\n",
              "      background-color: #434B5C;\n",
              "      box-shadow: 0px 1px 3px 1px rgba(0, 0, 0, 0.15);\n",
              "      filter: drop-shadow(0px 1px 2px rgba(0, 0, 0, 0.3));\n",
              "      fill: #FFFFFF;\n",
              "    }\n",
              "  </style>\n",
              "\n",
              "      <script>\n",
              "        const buttonEl =\n",
              "          document.querySelector('#df-866bcd54-0391-4ec7-a933-ef36cc95b846 button.colab-df-convert');\n",
              "        buttonEl.style.display =\n",
              "          google.colab.kernel.accessAllowed ? 'block' : 'none';\n",
              "\n",
              "        async function convertToInteractive(key) {\n",
              "          const element = document.querySelector('#df-866bcd54-0391-4ec7-a933-ef36cc95b846');\n",
              "          const dataTable =\n",
              "            await google.colab.kernel.invokeFunction('convertToInteractive',\n",
              "                                                     [key], {});\n",
              "          if (!dataTable) return;\n",
              "\n",
              "          const docLinkHtml = 'Like what you see? Visit the ' +\n",
              "            '<a target=\"_blank\" href=https://colab.research.google.com/notebooks/data_table.ipynb>data table notebook</a>'\n",
              "            + ' to learn more about interactive tables.';\n",
              "          element.innerHTML = '';\n",
              "          dataTable['output_type'] = 'display_data';\n",
              "          await google.colab.output.renderOutput(dataTable, element);\n",
              "          const docLink = document.createElement('div');\n",
              "          docLink.innerHTML = docLinkHtml;\n",
              "          element.appendChild(docLink);\n",
              "        }\n",
              "      </script>\n",
              "    </div>\n",
              "  </div>\n",
              "  "
            ]
          },
          "metadata": {},
          "execution_count": 26
        }
      ]
    },
    {
      "cell_type": "code",
      "source": [
        "y_data"
      ],
      "metadata": {
        "colab": {
          "base_uri": "https://localhost:8080/"
        },
        "id": "YuTT8k8Yz6Tj",
        "outputId": "b67a5d70-5892-4f55-863b-326180a7fb48"
      },
      "execution_count": null,
      "outputs": [
        {
          "output_type": "execute_result",
          "data": {
            "text/plain": [
              "0       0\n",
              "1       1\n",
              "2       0\n",
              "3       0\n",
              "4       1\n",
              "       ..\n",
              "8688    0\n",
              "8689    0\n",
              "8690    1\n",
              "8691    0\n",
              "8692    1\n",
              "Name: Transported, Length: 7930, dtype: int64"
            ]
          },
          "metadata": {},
          "execution_count": 27
        }
      ]
    },
    {
      "cell_type": "markdown",
      "source": [
        "El último paso que tenemos que hacer, es separar nuestros datos en tres sets, `train, validation, test`. Para esto, usaremos el método `train_test_split` de `sklearn.model_selection`. "
      ],
      "metadata": {
        "id": "Uf0SXz1mgzHQ"
      }
    },
    {
      "cell_type": "code",
      "source": [
        "from sklearn.model_selection import cross_validate, train_test_split"
      ],
      "metadata": {
        "id": "-jtsX4NVh69-"
      },
      "execution_count": null,
      "outputs": []
    },
    {
      "cell_type": "markdown",
      "source": [
        "Primero separamos `train` de los otros dos sets."
      ],
      "metadata": {
        "id": "b7-OdLCDOIQu"
      }
    },
    {
      "cell_type": "code",
      "source": [
        "X_train, X_test, y_train, y_test = train_test_split(X_data, y_data, test_size=0.4, random_state=10)"
      ],
      "metadata": {
        "id": "Y-2x8XTnuJjQ"
      },
      "execution_count": null,
      "outputs": []
    },
    {
      "cell_type": "markdown",
      "source": [
        "Ahora separaremos el set de `test`, en `test` y `validation`"
      ],
      "metadata": {
        "id": "wJ1u_WFSupJo"
      }
    },
    {
      "cell_type": "code",
      "source": [
        "X_test, X_validation, y_test, y_validation = train_test_split(X_test, y_test, test_size=0.5, random_state=10)"
      ],
      "metadata": {
        "id": "LUT_FAb4ut0c"
      },
      "execution_count": null,
      "outputs": []
    },
    {
      "cell_type": "markdown",
      "source": [
        "Por último, revisaremos los datasets finales para ver con que trabajaremos."
      ],
      "metadata": {
        "id": "bfPO3xYqvApu"
      }
    },
    {
      "cell_type": "code",
      "source": [
        "print(f\"Tamaño X train {X_train.shape}\")\n",
        "print(f\"Tamaño y train {y_train.shape}\")\n",
        "print(f\"Tamaño X test  {X_test.shape}\")\n",
        "print(f\"Tamaño y test  {y_test.shape}\")\n",
        "print(f\"Tamaño X valdación {X_validation.shape}\")\n",
        "print(f\"Tamaño y validción {y_validation.shape}\")"
      ],
      "metadata": {
        "colab": {
          "base_uri": "https://localhost:8080/"
        },
        "id": "YtvK4mMUvIYA",
        "outputId": "6d780fd2-dbcd-4836-d800-3ded8d2ba938"
      },
      "execution_count": null,
      "outputs": [
        {
          "output_type": "stream",
          "name": "stdout",
          "text": [
            "Tamaño X train (4758, 11)\n",
            "Tamaño y train (4758,)\n",
            "Tamaño X test  (1586, 11)\n",
            "Tamaño y test  (1586,)\n",
            "Tamaño X valdación (1586, 11)\n",
            "Tamaño y validción (1586,)\n"
          ]
        }
      ]
    },
    {
      "cell_type": "code",
      "source": [
        "X_train.head()"
      ],
      "metadata": {
        "colab": {
          "base_uri": "https://localhost:8080/",
          "height": 288
        },
        "id": "_m3XOtGAvmVL",
        "outputId": "31f3978e-ded2-42cc-9858-2123e1ee3686"
      },
      "execution_count": null,
      "outputs": [
        {
          "output_type": "execute_result",
          "data": {
            "text/plain": [
              "      CryoSleep  VIP  HomePlanet_Earth  HomePlanet_Europa  HomePlanet_Mars  \\\n",
              "4742          0    1                 0                  1                0   \n",
              "24            0    0                 1                  0                0   \n",
              "6856          0    0                 0                  0                1   \n",
              "1569          0    0                 0                  1                0   \n",
              "4227          0    0                 1                  0                0   \n",
              "\n",
              "      Destination_55 Cancri e  Destination_PSO J318.5-22  \\\n",
              "4742                        1                          0   \n",
              "24                          0                          0   \n",
              "6856                        1                          0   \n",
              "1569                        0                          0   \n",
              "4227                        0                          0   \n",
              "\n",
              "      Destination_TRAPPIST-1e  Age_Young  Age_Adult  Age_Elderly  \n",
              "4742                        0          1          0            0  \n",
              "24                          1          1          0            0  \n",
              "6856                        0          0          1            0  \n",
              "1569                        1          0          1            0  \n",
              "4227                        1          0          1            0  "
            ],
            "text/html": [
              "\n",
              "  <div id=\"df-96b8a92e-c395-4f62-b1fc-4cf6dce0d29b\">\n",
              "    <div class=\"colab-df-container\">\n",
              "      <div>\n",
              "<style scoped>\n",
              "    .dataframe tbody tr th:only-of-type {\n",
              "        vertical-align: middle;\n",
              "    }\n",
              "\n",
              "    .dataframe tbody tr th {\n",
              "        vertical-align: top;\n",
              "    }\n",
              "\n",
              "    .dataframe thead th {\n",
              "        text-align: right;\n",
              "    }\n",
              "</style>\n",
              "<table border=\"1\" class=\"dataframe\">\n",
              "  <thead>\n",
              "    <tr style=\"text-align: right;\">\n",
              "      <th></th>\n",
              "      <th>CryoSleep</th>\n",
              "      <th>VIP</th>\n",
              "      <th>HomePlanet_Earth</th>\n",
              "      <th>HomePlanet_Europa</th>\n",
              "      <th>HomePlanet_Mars</th>\n",
              "      <th>Destination_55 Cancri e</th>\n",
              "      <th>Destination_PSO J318.5-22</th>\n",
              "      <th>Destination_TRAPPIST-1e</th>\n",
              "      <th>Age_Young</th>\n",
              "      <th>Age_Adult</th>\n",
              "      <th>Age_Elderly</th>\n",
              "    </tr>\n",
              "  </thead>\n",
              "  <tbody>\n",
              "    <tr>\n",
              "      <th>4742</th>\n",
              "      <td>0</td>\n",
              "      <td>1</td>\n",
              "      <td>0</td>\n",
              "      <td>1</td>\n",
              "      <td>0</td>\n",
              "      <td>1</td>\n",
              "      <td>0</td>\n",
              "      <td>0</td>\n",
              "      <td>1</td>\n",
              "      <td>0</td>\n",
              "      <td>0</td>\n",
              "    </tr>\n",
              "    <tr>\n",
              "      <th>24</th>\n",
              "      <td>0</td>\n",
              "      <td>0</td>\n",
              "      <td>1</td>\n",
              "      <td>0</td>\n",
              "      <td>0</td>\n",
              "      <td>0</td>\n",
              "      <td>0</td>\n",
              "      <td>1</td>\n",
              "      <td>1</td>\n",
              "      <td>0</td>\n",
              "      <td>0</td>\n",
              "    </tr>\n",
              "    <tr>\n",
              "      <th>6856</th>\n",
              "      <td>0</td>\n",
              "      <td>0</td>\n",
              "      <td>0</td>\n",
              "      <td>0</td>\n",
              "      <td>1</td>\n",
              "      <td>1</td>\n",
              "      <td>0</td>\n",
              "      <td>0</td>\n",
              "      <td>0</td>\n",
              "      <td>1</td>\n",
              "      <td>0</td>\n",
              "    </tr>\n",
              "    <tr>\n",
              "      <th>1569</th>\n",
              "      <td>0</td>\n",
              "      <td>0</td>\n",
              "      <td>0</td>\n",
              "      <td>1</td>\n",
              "      <td>0</td>\n",
              "      <td>0</td>\n",
              "      <td>0</td>\n",
              "      <td>1</td>\n",
              "      <td>0</td>\n",
              "      <td>1</td>\n",
              "      <td>0</td>\n",
              "    </tr>\n",
              "    <tr>\n",
              "      <th>4227</th>\n",
              "      <td>0</td>\n",
              "      <td>0</td>\n",
              "      <td>1</td>\n",
              "      <td>0</td>\n",
              "      <td>0</td>\n",
              "      <td>0</td>\n",
              "      <td>0</td>\n",
              "      <td>1</td>\n",
              "      <td>0</td>\n",
              "      <td>1</td>\n",
              "      <td>0</td>\n",
              "    </tr>\n",
              "  </tbody>\n",
              "</table>\n",
              "</div>\n",
              "      <button class=\"colab-df-convert\" onclick=\"convertToInteractive('df-96b8a92e-c395-4f62-b1fc-4cf6dce0d29b')\"\n",
              "              title=\"Convert this dataframe to an interactive table.\"\n",
              "              style=\"display:none;\">\n",
              "        \n",
              "  <svg xmlns=\"http://www.w3.org/2000/svg\" height=\"24px\"viewBox=\"0 0 24 24\"\n",
              "       width=\"24px\">\n",
              "    <path d=\"M0 0h24v24H0V0z\" fill=\"none\"/>\n",
              "    <path d=\"M18.56 5.44l.94 2.06.94-2.06 2.06-.94-2.06-.94-.94-2.06-.94 2.06-2.06.94zm-11 1L8.5 8.5l.94-2.06 2.06-.94-2.06-.94L8.5 2.5l-.94 2.06-2.06.94zm10 10l.94 2.06.94-2.06 2.06-.94-2.06-.94-.94-2.06-.94 2.06-2.06.94z\"/><path d=\"M17.41 7.96l-1.37-1.37c-.4-.4-.92-.59-1.43-.59-.52 0-1.04.2-1.43.59L10.3 9.45l-7.72 7.72c-.78.78-.78 2.05 0 2.83L4 21.41c.39.39.9.59 1.41.59.51 0 1.02-.2 1.41-.59l7.78-7.78 2.81-2.81c.8-.78.8-2.07 0-2.86zM5.41 20L4 18.59l7.72-7.72 1.47 1.35L5.41 20z\"/>\n",
              "  </svg>\n",
              "      </button>\n",
              "      \n",
              "  <style>\n",
              "    .colab-df-container {\n",
              "      display:flex;\n",
              "      flex-wrap:wrap;\n",
              "      gap: 12px;\n",
              "    }\n",
              "\n",
              "    .colab-df-convert {\n",
              "      background-color: #E8F0FE;\n",
              "      border: none;\n",
              "      border-radius: 50%;\n",
              "      cursor: pointer;\n",
              "      display: none;\n",
              "      fill: #1967D2;\n",
              "      height: 32px;\n",
              "      padding: 0 0 0 0;\n",
              "      width: 32px;\n",
              "    }\n",
              "\n",
              "    .colab-df-convert:hover {\n",
              "      background-color: #E2EBFA;\n",
              "      box-shadow: 0px 1px 2px rgba(60, 64, 67, 0.3), 0px 1px 3px 1px rgba(60, 64, 67, 0.15);\n",
              "      fill: #174EA6;\n",
              "    }\n",
              "\n",
              "    [theme=dark] .colab-df-convert {\n",
              "      background-color: #3B4455;\n",
              "      fill: #D2E3FC;\n",
              "    }\n",
              "\n",
              "    [theme=dark] .colab-df-convert:hover {\n",
              "      background-color: #434B5C;\n",
              "      box-shadow: 0px 1px 3px 1px rgba(0, 0, 0, 0.15);\n",
              "      filter: drop-shadow(0px 1px 2px rgba(0, 0, 0, 0.3));\n",
              "      fill: #FFFFFF;\n",
              "    }\n",
              "  </style>\n",
              "\n",
              "      <script>\n",
              "        const buttonEl =\n",
              "          document.querySelector('#df-96b8a92e-c395-4f62-b1fc-4cf6dce0d29b button.colab-df-convert');\n",
              "        buttonEl.style.display =\n",
              "          google.colab.kernel.accessAllowed ? 'block' : 'none';\n",
              "\n",
              "        async function convertToInteractive(key) {\n",
              "          const element = document.querySelector('#df-96b8a92e-c395-4f62-b1fc-4cf6dce0d29b');\n",
              "          const dataTable =\n",
              "            await google.colab.kernel.invokeFunction('convertToInteractive',\n",
              "                                                     [key], {});\n",
              "          if (!dataTable) return;\n",
              "\n",
              "          const docLinkHtml = 'Like what you see? Visit the ' +\n",
              "            '<a target=\"_blank\" href=https://colab.research.google.com/notebooks/data_table.ipynb>data table notebook</a>'\n",
              "            + ' to learn more about interactive tables.';\n",
              "          element.innerHTML = '';\n",
              "          dataTable['output_type'] = 'display_data';\n",
              "          await google.colab.output.renderOutput(dataTable, element);\n",
              "          const docLink = document.createElement('div');\n",
              "          docLink.innerHTML = docLinkHtml;\n",
              "          element.appendChild(docLink);\n",
              "        }\n",
              "      </script>\n",
              "    </div>\n",
              "  </div>\n",
              "  "
            ]
          },
          "metadata": {},
          "execution_count": 32
        }
      ]
    },
    {
      "cell_type": "code",
      "source": [
        "y_train.head()"
      ],
      "metadata": {
        "colab": {
          "base_uri": "https://localhost:8080/"
        },
        "id": "eYo4cyvPwZPF",
        "outputId": "0158df2a-7ddc-4d82-a16d-d4f0c4818d12"
      },
      "execution_count": null,
      "outputs": [
        {
          "output_type": "execute_result",
          "data": {
            "text/plain": [
              "4742    0\n",
              "24      1\n",
              "6856    1\n",
              "1569    0\n",
              "4227    0\n",
              "Name: Transported, dtype: int64"
            ]
          },
          "metadata": {},
          "execution_count": 33
        }
      ]
    },
    {
      "cell_type": "markdown",
      "source": [
        "# Random Forest:"
      ],
      "metadata": {
        "id": "w_dAxumY0xB6"
      }
    },
    {
      "cell_type": "markdown",
      "source": [
        "Ahora usaremos nuestro dataset para entrenar nuestro ensamble de árboles. Para esto, importaremos `RandomForestClassifier` de `sklearn`"
      ],
      "metadata": {
        "id": "zCk6dDvOOenB"
      }
    },
    {
      "cell_type": "code",
      "source": [
        "from sklearn.ensemble import RandomForestClassifier"
      ],
      "metadata": {
        "id": "cpmywsP901Ma"
      },
      "execution_count": null,
      "outputs": []
    },
    {
      "cell_type": "markdown",
      "source": [
        "Creamos nuestro random forest, lo entrenamos y luego aplicamos la clasificación."
      ],
      "metadata": {
        "id": "IOItNGA4P2ly"
      }
    },
    {
      "cell_type": "code",
      "source": [
        "clf = RandomForestClassifier(criterion=\"entropy\", max_depth=3)"
      ],
      "metadata": {
        "id": "FRAj_4Gn1FF6"
      },
      "execution_count": null,
      "outputs": []
    },
    {
      "cell_type": "code",
      "source": [
        "clf.fit(X_train, y_train)\n",
        "y_predict = clf.predict(X_test)"
      ],
      "metadata": {
        "id": "uO_0rzQy18Sq"
      },
      "execution_count": null,
      "outputs": []
    },
    {
      "cell_type": "markdown",
      "source": [
        "Ahora que tenemos los valores, nos gustaría saber que tan correctos fueron estos. Primero miremos la matriz de confusión para ver los resultados."
      ],
      "metadata": {
        "id": "Ti_onjivQD3C"
      }
    },
    {
      "cell_type": "code",
      "source": [
        "import seaborn as sns                 # Libreía para graficar y hacer visualizaciones\n",
        "import sklearn.metrics as metrics     "
      ],
      "metadata": {
        "id": "y-AwN5YWfRtP"
      },
      "execution_count": null,
      "outputs": []
    },
    {
      "cell_type": "code",
      "source": [
        "matriz_confusion_sin_lim = metrics.confusion_matrix(y_test, y_predict)\n",
        "sns.heatmap(matriz_confusion_sin_lim, annot=True)"
      ],
      "metadata": {
        "id": "AY9xImGlfa0f",
        "colab": {
          "base_uri": "https://localhost:8080/",
          "height": 283
        },
        "outputId": "f49ff989-1196-4fda-9119-86b357830b95"
      },
      "execution_count": null,
      "outputs": [
        {
          "output_type": "execute_result",
          "data": {
            "text/plain": [
              "<matplotlib.axes._subplots.AxesSubplot at 0x7fd49bac2b50>"
            ]
          },
          "metadata": {},
          "execution_count": 50
        },
        {
          "output_type": "display_data",
          "data": {
            "text/plain": [
              "<Figure size 432x288 with 2 Axes>"
            ],
            "image/png": "[encoded data removed]"
          },
          "metadata": {
            "needs_background": "light"
          }
        }
      ]
    },
    {
      "cell_type": "markdown",
      "source": [
        "También nos interesa ver ciertas métricas, para evaluar que tan correctos fueron nuestros resultados."
      ],
      "metadata": {
        "id": "8kaeBikDQTcO"
      }
    },
    {
      "cell_type": "code",
      "source": [
        "metrics.accuracy_score(y_test, y_predict)"
      ],
      "metadata": {
        "colab": {
          "base_uri": "https://localhost:8080/"
        },
        "id": "Mbg9Obd2tDiP",
        "outputId": "614de10c-1d1e-4c3e-d1a1-3099a8b22702"
      },
      "execution_count": null,
      "outputs": [
        {
          "output_type": "execute_result",
          "data": {
            "text/plain": [
              "0.7118537200504413"
            ]
          },
          "metadata": {},
          "execution_count": 51
        }
      ]
    },
    {
      "cell_type": "markdown",
      "source": [
        "\n",
        "# Cross validation"
      ],
      "metadata": {
        "id": "HHgEB1JSui-v"
      }
    },
    {
      "cell_type": "code",
      "source": [
        "cross_val_clf = RandomForestClassifier(criterion=\"entropy\", max_depth=10)"
      ],
      "metadata": {
        "id": "RPyw6ihatWUI"
      },
      "execution_count": null,
      "outputs": []
    },
    {
      "cell_type": "code",
      "source": [
        "cross_validate(cross_val_clf, X_data, y_data, cv=4, scoring=('accuracy'))"
      ],
      "metadata": {
        "colab": {
          "base_uri": "https://localhost:8080/"
        },
        "id": "JgZqNheH3enf",
        "outputId": "5d4c2dba-b105-4dd6-ebf0-f71f3a20db3f"
      },
      "execution_count": null,
      "outputs": [
        {
          "output_type": "execute_result",
          "data": {
            "text/plain": [
              "{'fit_time': array([0.68312693, 0.6678431 , 0.86077476, 0.8379488 ]),\n",
              " 'score_time': array([0.07591295, 0.13029742, 0.13323092, 0.12669182]),\n",
              " 'test_score': array([0.70499244, 0.71659102, 0.71796165, 0.73562059])}"
            ]
          },
          "metadata": {},
          "execution_count": 41
        }
      ]
    },
    {
      "cell_type": "code",
      "source": [
        "cross_val_clf = RandomForestClassifier(criterion=\"entropy\", n_estimators=200, max_depth=3)"
      ],
      "metadata": {
        "id": "_j5rrLjn4Uar"
      },
      "execution_count": null,
      "outputs": []
    },
    {
      "cell_type": "code",
      "source": [
        "cross_validate(cross_val_clf, X_data, y_data, cv=4)"
      ],
      "metadata": {
        "colab": {
          "base_uri": "https://localhost:8080/"
        },
        "outputId": "c5971a02-cbc0-4244-e3e9-3f1c465e527b",
        "id": "drKl6t0R4Uat"
      },
      "execution_count": null,
      "outputs": [
        {
          "output_type": "execute_result",
          "data": {
            "text/plain": [
              "{'fit_time': array([0.44749999, 0.45678711, 0.45190763, 0.45457149]),\n",
              " 'score_time': array([0.05228639, 0.05121255, 0.05612564, 0.05050373]),\n",
              " 'test_score': array([0.71255673, 0.71255673, 0.71089808, 0.73259334])}"
            ]
          },
          "metadata": {},
          "execution_count": 60
        }
      ]
    },
    {
      "cell_type": "markdown",
      "source": [
        "# Decision Tree Code"
      ],
      "metadata": {
        "id": "TKCYohhhPhmm"
      }
    },
    {
      "cell_type": "markdown",
      "source": [
        "![photo_2022-05-22_17-54-17.jpg](data:image/jpeg;base64,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)"
      ],
      "metadata": {
        "id": "2zneYoulUhSl"
      }
    },
    {
      "cell_type": "code",
      "execution_count": null,
      "metadata": {
        "id": "f0E1PDxAi7hM"
      },
      "outputs": [],
      "source": [
        "class Node():\n",
        "    def __init__(self, feature_index=None, threshold=None, left=None, right=None, info_gain=None, value=None):\n",
        "        ''' constructor ''' \n",
        "        \n",
        "        # for decision node\n",
        "        self.feature_index = feature_index\n",
        "        self.threshold = threshold\n",
        "        self.left = left\n",
        "        self.right = right\n",
        "        self.info_gain = info_gain\n",
        "        \n",
        "        # for leaf node\n",
        "        self.value = value"
      ]
    },
    {
      "cell_type": "code",
      "source": [
        "class DecisionTreeClassifier():\n",
        "    def __init__(self, min_samples_split=2, max_depth=2):\n",
        "        ''' constructor '''\n",
        "        \n",
        "        # initialize the root of the tree \n",
        "        self.root = None\n",
        "        \n",
        "        # stopping conditions\n",
        "        self.min_samples_split = min_samples_split\n",
        "        self.max_depth = max_depth\n",
        "        \n",
        "    # Se construye el árbol    \n",
        "    def build_tree(self, dataset, curr_depth=0): \n",
        "        \n",
        "        X, Y = dataset[:,:-1], dataset[:,-1]\n",
        "        num_samples, num_features = np.shape(X)\n",
        "        \n",
        "        # split until stopping conditions are met\n",
        "        if num_samples>=self.min_samples_split and curr_depth<=self.max_depth:\n",
        "            # find the best split\n",
        "            best_split = self.get_best_split(dataset, num_samples, num_features)\n",
        "            # check if information gain is positive\n",
        "            if best_split[\"info_gain\"]>0:\n",
        "                # recur left\n",
        "                left_subtree = self.build_tree(best_split[\"dataset_left\"], curr_depth+1)\n",
        "                # recur right\n",
        "                right_subtree = self.build_tree(best_split[\"dataset_right\"], curr_depth+1)\n",
        "                # return decision node\n",
        "                return Node(best_split[\"feature_index\"], best_split[\"threshold\"], \n",
        "                            left_subtree, right_subtree, best_split[\"info_gain\"])\n",
        "        \n",
        "        # compute leaf node\n",
        "        leaf_value = self.calculate_leaf_value(Y)\n",
        "        # return leaf node\n",
        "        return Node(value=leaf_value)\n",
        "    \n",
        "    # Se encuentra el mejor split\n",
        "    def get_best_split(self, dataset, num_samples, num_features):        \n",
        "        # dictionary to store the best split\n",
        "        best_split = {}\n",
        "        max_info_gain = -float(\"inf\")\n",
        "        \n",
        "        # loop over all the features\n",
        "        for feature_index in range(num_features):\n",
        "            feature_values = dataset[:, feature_index]\n",
        "            possible_thresholds = np.unique(feature_values)\n",
        "            # loop over all the feature values present in the data\n",
        "            for threshold in possible_thresholds:\n",
        "                # get current split\n",
        "                dataset_left, dataset_right = self.split(dataset, feature_index, threshold)\n",
        "                # check if childs are not null\n",
        "                if len(dataset_left)>0 and len(dataset_right)>0:\n",
        "                    y, left_y, right_y = dataset[:, -1], dataset_left[:, -1], dataset_right[:, -1]\n",
        "                    # compute information gain\n",
        "                    curr_info_gain = self.information_gain(y, left_y, right_y, \"gini\")\n",
        "                    # update the best split if needed\n",
        "                    if curr_info_gain>max_info_gain:\n",
        "                        best_split[\"feature_index\"] = feature_index\n",
        "                        best_split[\"threshold\"] = threshold\n",
        "                        best_split[\"dataset_left\"] = dataset_left\n",
        "                        best_split[\"dataset_right\"] = dataset_right\n",
        "                        best_split[\"info_gain\"] = curr_info_gain\n",
        "                        max_info_gain = curr_info_gain\n",
        "                        \n",
        "        # return best split\n",
        "        return best_split\n",
        "    \n",
        "    # Función para hacer split\n",
        "    def split(self, dataset, feature_index, threshold):        \n",
        "        dataset_left = np.array([row for row in dataset if row[feature_index]<=threshold])\n",
        "        dataset_right = np.array([row for row in dataset if row[feature_index]>threshold])\n",
        "        return dataset_left, dataset_right\n",
        "    \n",
        "    # Calcular ganancia de información\n",
        "    def information_gain(self, parent, l_child, r_child, mode=\"entropy\"):\n",
        "        weight_l = len(l_child) / len(parent)\n",
        "        weight_r = len(r_child) / len(parent)\n",
        "        if mode==\"gini\":\n",
        "            gain = self.gini_index(parent) - (weight_l*self.gini_index(l_child) + weight_r*self.gini_index(r_child))\n",
        "        else:\n",
        "            gain = self.entropy(parent) - (weight_l*self.entropy(l_child) + weight_r*self.entropy(r_child))\n",
        "        return gain\n",
        "    \n",
        "    # Calcular entropía\n",
        "    def entropy(self, y):    \n",
        "        class_labels = np.unique(y)\n",
        "        entropy = 0\n",
        "        for cls in class_labels:\n",
        "            p_cls = len(y[y == cls]) / len(y)\n",
        "            entropy += -p_cls * np.log2(p_cls)\n",
        "        return entropy\n",
        "    \n",
        "    # Calcular Giny Index\n",
        "    def gini_index(self, y):\n",
        "        \n",
        "        class_labels = np.unique(y)\n",
        "        gini = 0\n",
        "        for cls in class_labels:\n",
        "            p_cls = len(y[y == cls]) / len(y)\n",
        "            gini += p_cls**2\n",
        "        return 1 - gini\n",
        "        \n",
        "    # Encontrar el valor de cada hoja\n",
        "    def calculate_leaf_value(self, Y):\n",
        "        \n",
        "        Y = list(Y)\n",
        "        return max(Y, key=Y.count)\n",
        "    \n",
        "    # def print_tree(self, tree=None, indent=\" \"):\n",
        "    #     if not tree:\n",
        "    #         tree = self.root\n",
        "\n",
        "    #     if tree.value is not None:\n",
        "    #         print(tree.value)\n",
        "\n",
        "    #     else:\n",
        "    #         print(\"X_\"+str(tree.feature_index), \"<=\", tree.threshold, \"?\", tree.info_gain)\n",
        "    #         print(\"%sleft:\" % (indent), end=\"\")\n",
        "    #         self.print_tree(tree.left, indent + indent)\n",
        "    #         print(\"%sright:\" % (indent), end=\"\")\n",
        "    #         self.print_tree(tree.right, indent + indent)\n",
        "    \n",
        "    # Entrenar el clasificador\n",
        "    def fit(self, X, Y):\n",
        "        dataset = np.concatenate((X, Y), axis=1)\n",
        "        self.root = self.build_tree(dataset)\n",
        "    \n",
        "    # Predecir para un conjunto de datos\n",
        "    def predict(self, X):\n",
        "        predictions = [self.make_prediction(x, self.root) for x in X]\n",
        "        return predictions\n",
        "    \n",
        "    # Predecir datos individuales\n",
        "    def make_prediction(self, x, tree):\n",
        "        if tree.value!=None: return tree.value\n",
        "        feature_val = x[tree.feature_index]\n",
        "        if feature_val<=tree.threshold:\n",
        "            return self.make_prediction(x, tree.left)\n",
        "        else:\n",
        "            return self.make_prediction(x, tree.right)"
      ],
      "metadata": {
        "id": "2PQoobj4qFcE"
      },
      "execution_count": null,
      "outputs": []
    },
    {
      "cell_type": "markdown",
      "source": [
        "1. https://www.kaggle.com/competitions/spaceship-titanic/data\n",
        "2. https://en.wikipedia.org/wiki/Decision_tree#:~:text=A%20decision%20tree%20is%20a,only%20contains%20conditional%20control%20statements. \n",
        "3. https://www.researchgate.net/figure/Random-forests-are-collections-of-randomised-decision-trees-A-A-single-decision-tree_fig1_339279807\n"
      ],
      "metadata": {
        "id": "Jk097yHnbZi_"
      }
    }
  ]
}