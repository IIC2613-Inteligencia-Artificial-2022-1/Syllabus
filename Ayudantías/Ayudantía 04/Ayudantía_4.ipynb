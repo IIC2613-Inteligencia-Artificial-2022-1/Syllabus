{
  "nbformat": 4,
  "nbformat_minor": 0,
  "metadata": {
    "colab": {
      "name": "Ayudantía 4.ipynb",
      "provenance": [],
      "collapsed_sections": []
    },
    "kernelspec": {
      "name": "python3",
      "display_name": "Python 3"
    },
    "language_info": {
      "name": "python"
    }
  },
  "cells": [
    {
      "cell_type": "code",
      "execution_count": null,
      "metadata": {
        "id": "zzUQn_8nS1p1"
      },
      "outputs": [],
      "source": [
        "# Importamos las librerías necesarias\n",
        "from queue import Queue"
      ]
    },
    {
      "cell_type": "code",
      "source": [
        "# Definimos la clase Nodo\n",
        "class Node:\n",
        "  def __init__(self, value):\n",
        "    self.value = value\n",
        "    self.children = []\n",
        "    self.parent = None\n",
        "\n",
        "  # Método retorna los sucesores del nodo actual\n",
        "  def get_successors(self):\n",
        "    return self.children\n",
        "\n",
        "  # Método retorna el camino desde el nodo root al nodo actual\n",
        "  def get_path(self, node):\n",
        "    if node.parent:\n",
        "      return f\"{node.value} -> {self.get_path(node.parent)}\"\n",
        "    return f\"{node.value}\""
      ],
      "metadata": {
        "id": "ZVxxgYc6T_eY"
      },
      "execution_count": null,
      "outputs": []
    },
    {
      "cell_type": "code",
      "source": [
        "# Instanciamos los nodos del grafo\n",
        "root = Node(1)\n",
        "node_2 = Node(2)\n",
        "node_3 = Node(3)\n",
        "node_4 = Node(4)\n",
        "node_5 = Node(5)\n",
        "node_6 = Node(6)\n",
        "node_7 = Node(7)\n",
        "node_8 = Node(8)\n",
        "node_9 = Node(9)\n",
        "node_10 = Node(10)\n",
        "\n",
        "# Construimos el grafo\n",
        "root.children = [node_2, node_3]\n",
        "node_2.children = [node_4, node_5]\n",
        "node_3.children = [node_6]\n",
        "node_4.children = [node_7]\n",
        "node_5.children = [node_8, node_9]\n",
        "node_7.children = [node_10]\n",
        "\n",
        "# Definimos el set de nodos objetivo\n",
        "goal = [9]"
      ],
      "metadata": {
        "id": "m8gTZfmiVFBL"
      },
      "execution_count": null,
      "outputs": []
    },
    {
      "cell_type": "markdown",
      "source": [
        "Imagen del nodo definido:"
      ],
      "metadata": {
        "id": "7WZbJkb0sdLR"
      }
    },
    {
      "cell_type": "markdown",
      "source": [
        "<img src=\"https://drive.google.com/uc?export=view&id=1MSV-TPKcAxhy1_i0k47Shm6bFgoSCFR2\" width=\"500\"/>\n"
      ],
      "metadata": {
        "id": "JNI7y446reRJ"
      }
    },
    {
      "cell_type": "markdown",
      "source": [
        "## BFS - Búsqueda en Amplitud"
      ],
      "metadata": {
        "id": "U-AOxhvO7frU"
      }
    },
    {
      "cell_type": "code",
      "source": [
        "# Definimos la función BFS - Búsqueda por Amplitud\n",
        "def bfs(root, goal):\n",
        "  open = Queue() # Queue\n",
        "  closed = []\n",
        "  open.put(root)\n",
        "  while not open.empty():\n",
        "      u = open.get()\n",
        "      closed.append(u)\n",
        "      print(f\"u = {u.value}\")\n",
        "      for node in u.get_successors():\n",
        "          if node.value not in [x.value for x in list(open.queue) + closed]:\n",
        "            node.parent = u\n",
        "            if node.value in goal:\n",
        "              return node, closed, open\n",
        "            open.put(node)\n",
        "  return None, None, None"
      ],
      "metadata": {
        "id": "pfGtu7qUfhYz"
      },
      "execution_count": null,
      "outputs": []
    },
    {
      "cell_type": "code",
      "source": [
        "goal_node, closed, open = bfs(root, goal)"
      ],
      "metadata": {
        "colab": {
          "base_uri": "https://localhost:8080/"
        },
        "id": "uciqoY8eYW_z",
        "outputId": "a9af13c0-3507-4c2e-942e-221bcc93dcc5"
      },
      "execution_count": null,
      "outputs": [
        {
          "output_type": "stream",
          "name": "stdout",
          "text": [
            "u = 1\n",
            "u = 2\n",
            "u = 3\n",
            "u = 4\n",
            "u = 5\n"
          ]
        }
      ]
    },
    {
      "cell_type": "code",
      "source": [
        "f\"Path: {goal_node.get_path(goal_node)}\""
      ],
      "metadata": {
        "colab": {
          "base_uri": "https://localhost:8080/",
          "height": 35
        },
        "id": "GvsjDHfLbjnn",
        "outputId": "95648833-07d3-4356-b199-ad1756fc8368"
      },
      "execution_count": null,
      "outputs": [
        {
          "output_type": "execute_result",
          "data": {
            "text/plain": [
              "'Path: 9 -> 5 -> 2 -> 1'"
            ],
            "application/vnd.google.colaboratory.intrinsic+json": {
              "type": "string"
            }
          },
          "metadata": {},
          "execution_count": 6
        }
      ]
    },
    {
      "cell_type": "code",
      "source": [
        "f\"Open: {[node.value for node in list(open.queue)]}\""
      ],
      "metadata": {
        "colab": {
          "base_uri": "https://localhost:8080/",
          "height": 35
        },
        "id": "LErAOJjjg6tL",
        "outputId": "42c24401-9064-45ad-aeec-e316ed457818"
      },
      "execution_count": null,
      "outputs": [
        {
          "output_type": "execute_result",
          "data": {
            "text/plain": [
              "'Open: [6, 7, 8]'"
            ],
            "application/vnd.google.colaboratory.intrinsic+json": {
              "type": "string"
            }
          },
          "metadata": {},
          "execution_count": 7
        }
      ]
    },
    {
      "cell_type": "code",
      "source": [
        "f\"Closed: {[node.value for node in closed]}\""
      ],
      "metadata": {
        "colab": {
          "base_uri": "https://localhost:8080/",
          "height": 35
        },
        "id": "Muqsl7ElfBKa",
        "outputId": "248deed0-7390-49ca-acf6-2236128cd706"
      },
      "execution_count": null,
      "outputs": [
        {
          "output_type": "execute_result",
          "data": {
            "text/plain": [
              "'Closed: [1, 2, 3, 4, 5]'"
            ],
            "application/vnd.google.colaboratory.intrinsic+json": {
              "type": "string"
            }
          },
          "metadata": {},
          "execution_count": 8
        }
      ]
    },
    {
      "cell_type": "markdown",
      "source": [
        "## DFS - Búsqueda en Profundidad"
      ],
      "metadata": {
        "id": "cw30KynR7X74"
      }
    },
    {
      "cell_type": "code",
      "source": [
        "# Definimos la función DFS - Búsqueda en Profundidad\n",
        "def dfs(root, goal):\n",
        "  open = [] # Stack\n",
        "  closed = []\n",
        "  open.append(root)\n",
        "  while len(open):\n",
        "      u = open.pop()\n",
        "      closed.append(u)\n",
        "      print(f\"u = {u.value}\")\n",
        "      for node in u.get_successors():\n",
        "          if node.value not in [x.value for x in open + closed]:\n",
        "            node.parent = u\n",
        "            if node.value in goal:\n",
        "              return node, closed, open\n",
        "            open.append(node)\n",
        "  return None, None, None"
      ],
      "metadata": {
        "id": "Gi8lpWItVArW"
      },
      "execution_count": null,
      "outputs": []
    },
    {
      "cell_type": "code",
      "source": [
        "goal_node, closed, open = dfs(root, goal)"
      ],
      "metadata": {
        "colab": {
          "base_uri": "https://localhost:8080/"
        },
        "id": "wBoLfzJsf71T",
        "outputId": "c9269d2b-4192-4a26-fe8d-92dadf11ab18"
      },
      "execution_count": null,
      "outputs": [
        {
          "output_type": "stream",
          "name": "stdout",
          "text": [
            "u = 1\n",
            "u = 3\n",
            "u = 6\n",
            "u = 2\n",
            "u = 5\n"
          ]
        }
      ]
    },
    {
      "cell_type": "code",
      "source": [
        "f\"Path: {goal_node.get_path(goal_node)}\""
      ],
      "metadata": {
        "colab": {
          "base_uri": "https://localhost:8080/",
          "height": 35
        },
        "id": "-R9OPlieg5P-",
        "outputId": "50a0539c-ed09-41a5-adcc-eaed04d663bd"
      },
      "execution_count": null,
      "outputs": [
        {
          "output_type": "execute_result",
          "data": {
            "text/plain": [
              "'Path: 9 -> 5 -> 2 -> 1'"
            ],
            "application/vnd.google.colaboratory.intrinsic+json": {
              "type": "string"
            }
          },
          "metadata": {},
          "execution_count": 11
        }
      ]
    },
    {
      "cell_type": "code",
      "source": [
        "f\"Open: {[node.value for node in open]}\""
      ],
      "metadata": {
        "colab": {
          "base_uri": "https://localhost:8080/",
          "height": 35
        },
        "id": "iPlgHEJYerXK",
        "outputId": "46b737c5-ba19-40d3-f971-3574f14abe24"
      },
      "execution_count": null,
      "outputs": [
        {
          "output_type": "execute_result",
          "data": {
            "text/plain": [
              "'Open: [4, 8]'"
            ],
            "application/vnd.google.colaboratory.intrinsic+json": {
              "type": "string"
            }
          },
          "metadata": {},
          "execution_count": 12
        }
      ]
    },
    {
      "cell_type": "code",
      "source": [
        "f\"Closed: {[node.value for node in closed]}\""
      ],
      "metadata": {
        "colab": {
          "base_uri": "https://localhost:8080/",
          "height": 35
        },
        "id": "wiRXIpjXg8Ij",
        "outputId": "7dd08426-dd47-4507-a57b-08ebe4ad7417"
      },
      "execution_count": null,
      "outputs": [
        {
          "output_type": "execute_result",
          "data": {
            "text/plain": [
              "'Closed: [1, 3, 6, 2, 5]'"
            ],
            "application/vnd.google.colaboratory.intrinsic+json": {
              "type": "string"
            }
          },
          "metadata": {},
          "execution_count": 13
        }
      ]
    }
  ]
}